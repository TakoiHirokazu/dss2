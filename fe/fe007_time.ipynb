{
 "cells": [
  {
   "cell_type": "code",
   "execution_count": 6,
   "id": "c0c083c1",
   "metadata": {},
   "outputs": [],
   "source": [
    "import pandas as pd\n",
    "import numpy as np\n",
    "import matplotlib.pyplot as plt\n",
    "import os\n",
    "from tqdm import tqdm_notebook as tqdm\n",
    "import sys\n",
    "sys.path.append(\"../src/\")\n",
    "from logger import setup_logger, LOGGER\n",
    "from trainer import train_lgbm\n",
    "from util_tool import reduce_mem_usage\n",
    "from sklearn.decomposition import TruncatedSVD\n",
    "import re\n",
    "%matplotlib inline\n",
    "\n",
    "pd.set_option('display.max_columns', 300)"
   ]
  },
  {
   "cell_type": "code",
   "execution_count": 2,
   "id": "8f3eb5be",
   "metadata": {},
   "outputs": [],
   "source": [
    "# ==================\n",
    "# Constant\n",
    "# ==================\n",
    "TRAIN_PATH = \"../input/train.csv\"\n",
    "TEST_PATH = \"../input/test.csv\"\n",
    "USER_PATH = \"../input/user_x_anime.csv\""
   ]
  },
  {
   "cell_type": "code",
   "execution_count": 3,
   "id": "e8a9cf49",
   "metadata": {},
   "outputs": [],
   "source": [
    "# =====================\n",
    "# Settings\n",
    "# =====================\n",
    "SAVE_PATH = \"../output/fe/fe007.feather\""
   ]
  },
  {
   "cell_type": "code",
   "execution_count": 4,
   "id": "9cb829f3",
   "metadata": {},
   "outputs": [],
   "source": [
    "train = pd.read_csv(TRAIN_PATH)\n",
    "test = pd.read_csv(TEST_PATH)"
   ]
  },
  {
   "cell_type": "code",
   "execution_count": 5,
   "id": "74718f60",
   "metadata": {},
   "outputs": [],
   "source": [
    "cols = [\"Duration\"]\n",
    "train = pd.concat([train[cols],test[cols]]).reset_index(drop=True)"
   ]
  },
  {
   "cell_type": "code",
   "execution_count": 25,
   "id": "847e04d1",
   "metadata": {},
   "outputs": [],
   "source": [
    "def duration_to_time(duration):\n",
    "    min_match = re.search(r\"[0-9]{1,7} min.\", duration)\n",
    "    hr_match = re.search(r\"[0-9]{1,7} hr.\", duration)\n",
    "    if min_match is None:\n",
    "        min_match = 0\n",
    "    else:\n",
    "        min_match = float(min_match.group(0).replace(\" min.\",\"\"))\n",
    "    if hr_match is None:\n",
    "        hr_match = 0\n",
    "    else:\n",
    "        hr_match = float(hr_match.group(0).replace(\" hr.\",\"\"))\n",
    "    return hr_match * 60 + min_match"
   ]
  },
  {
   "cell_type": "code",
   "execution_count": 29,
   "id": "285cc841",
   "metadata": {},
   "outputs": [],
   "source": [
    "train[\"Duration\"] = train[\"Duration\"].map(duration_to_time)"
   ]
  },
  {
   "cell_type": "code",
   "execution_count": 30,
   "id": "5d7b545f",
   "metadata": {},
   "outputs": [
    {
     "data": {
      "text/html": [
       "<div>\n",
       "<style scoped>\n",
       "    .dataframe tbody tr th:only-of-type {\n",
       "        vertical-align: middle;\n",
       "    }\n",
       "\n",
       "    .dataframe tbody tr th {\n",
       "        vertical-align: top;\n",
       "    }\n",
       "\n",
       "    .dataframe thead th {\n",
       "        text-align: right;\n",
       "    }\n",
       "</style>\n",
       "<table border=\"1\" class=\"dataframe\">\n",
       "  <thead>\n",
       "    <tr style=\"text-align: right;\">\n",
       "      <th></th>\n",
       "      <th>Duration</th>\n",
       "    </tr>\n",
       "  </thead>\n",
       "  <tbody>\n",
       "    <tr>\n",
       "      <th>0</th>\n",
       "      <td>24.0</td>\n",
       "    </tr>\n",
       "    <tr>\n",
       "      <th>1</th>\n",
       "      <td>23.0</td>\n",
       "    </tr>\n",
       "    <tr>\n",
       "      <th>2</th>\n",
       "      <td>22.0</td>\n",
       "    </tr>\n",
       "    <tr>\n",
       "      <th>3</th>\n",
       "      <td>25.0</td>\n",
       "    </tr>\n",
       "    <tr>\n",
       "      <th>4</th>\n",
       "      <td>124.0</td>\n",
       "    </tr>\n",
       "    <tr>\n",
       "      <th>...</th>\n",
       "      <td>...</td>\n",
       "    </tr>\n",
       "    <tr>\n",
       "      <th>12416</th>\n",
       "      <td>1.0</td>\n",
       "    </tr>\n",
       "    <tr>\n",
       "      <th>12417</th>\n",
       "      <td>0.0</td>\n",
       "    </tr>\n",
       "    <tr>\n",
       "      <th>12418</th>\n",
       "      <td>4.0</td>\n",
       "    </tr>\n",
       "    <tr>\n",
       "      <th>12419</th>\n",
       "      <td>23.0</td>\n",
       "    </tr>\n",
       "    <tr>\n",
       "      <th>12420</th>\n",
       "      <td>23.0</td>\n",
       "    </tr>\n",
       "  </tbody>\n",
       "</table>\n",
       "<p>12421 rows × 1 columns</p>\n",
       "</div>"
      ],
      "text/plain": [
       "       Duration\n",
       "0          24.0\n",
       "1          23.0\n",
       "2          22.0\n",
       "3          25.0\n",
       "4         124.0\n",
       "...         ...\n",
       "12416       1.0\n",
       "12417       0.0\n",
       "12418       4.0\n",
       "12419      23.0\n",
       "12420      23.0\n",
       "\n",
       "[12421 rows x 1 columns]"
      ]
     },
     "execution_count": 30,
     "metadata": {},
     "output_type": "execute_result"
    }
   ],
   "source": [
    "train"
   ]
  },
  {
   "cell_type": "code",
   "execution_count": 31,
   "id": "7a9ad21e",
   "metadata": {},
   "outputs": [
    {
     "name": "stdout",
     "output_type": "stream",
     "text": [
      "Memory usage of dataframe is 0.09 MB\n",
      "column =  1\n",
      "0\n",
      "Memory usage after optimization is: 0.05 MB\n",
      "Decreased by 49.9%\n"
     ]
    }
   ],
   "source": [
    "train = reduce_mem_usage(train)\n",
    "train[[\"Duration\"]].to_feather(SAVE_PATH)"
   ]
  },
  {
   "cell_type": "code",
   "execution_count": null,
   "id": "a067ff20",
   "metadata": {},
   "outputs": [],
   "source": []
  }
 ],
 "metadata": {
  "kernelspec": {
   "display_name": "Python 3 (ipykernel)",
   "language": "python",
   "name": "python3"
  },
  "language_info": {
   "codemirror_mode": {
    "name": "ipython",
    "version": 3
   },
   "file_extension": ".py",
   "mimetype": "text/x-python",
   "name": "python",
   "nbconvert_exporter": "python",
   "pygments_lexer": "ipython3",
   "version": "3.7.10"
  }
 },
 "nbformat": 4,
 "nbformat_minor": 5
}
