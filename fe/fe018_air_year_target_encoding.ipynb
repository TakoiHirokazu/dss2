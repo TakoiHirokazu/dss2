{
 "cells": [
  {
   "cell_type": "code",
   "execution_count": 46,
   "id": "7b32863a",
   "metadata": {},
   "outputs": [],
   "source": [
    "import pandas as pd\n",
    "import numpy as np\n",
    "import matplotlib.pyplot as plt\n",
    "import os\n",
    "from tqdm import tqdm_notebook as tqdm\n",
    "import sys\n",
    "sys.path.append(\"../src/\")\n",
    "from logger import setup_logger, LOGGER\n",
    "from trainer import train_lgbm\n",
    "from util_tool import reduce_mem_usage\n",
    "from sklearn.decomposition import TruncatedSVD\n",
    "%matplotlib inline\n",
    "pd.set_option('display.max_columns', 300)"
   ]
  },
  {
   "cell_type": "code",
   "execution_count": 47,
   "id": "e063c8d8",
   "metadata": {},
   "outputs": [],
   "source": [
    "# ==================\n",
    "# Constant\n",
    "# ==================\n",
    "TRAIN_PATH = \"../input/train.csv\"\n",
    "TEST_PATH = \"../input/test.csv\"\n",
    "USER_PATH = \"../input/user_x_anime.csv\""
   ]
  },
  {
   "cell_type": "code",
   "execution_count": 48,
   "id": "24dbfe48",
   "metadata": {},
   "outputs": [],
   "source": [
    "# =====================\n",
    "# Settings\n",
    "# =====================\n",
    "SAVE_PATH = \"../output/fe/fe018.feather\""
   ]
  },
  {
   "cell_type": "code",
   "execution_count": 49,
   "id": "d41d0042",
   "metadata": {},
   "outputs": [],
   "source": [
    "train = pd.read_csv(TRAIN_PATH)\n",
    "test = pd.read_csv(TEST_PATH)\n",
    "fe017 = pd.read_feather(\"../output/fe/fe017.feather\")"
   ]
  },
  {
   "cell_type": "code",
   "execution_count": 50,
   "id": "c5ef438f",
   "metadata": {},
   "outputs": [],
   "source": [
    "fe017[\"air_year\"] = fe017[\"air_year\"].fillna(0)\n",
    "fe017[\"air_year\"] = fe017[\"air_year\"].astype(str)"
   ]
  },
  {
   "cell_type": "code",
   "execution_count": 51,
   "id": "3f54d236",
   "metadata": {},
   "outputs": [],
   "source": [
    "train[\"air_year\"] = fe017[\"air_year\"].iloc[:len(train)].values\n",
    "test[\"air_year\"] = fe017[\"air_year\"].iloc[len(train):].values"
   ]
  },
  {
   "cell_type": "code",
   "execution_count": 52,
   "id": "22a3eb02",
   "metadata": {},
   "outputs": [
    {
     "data": {
      "text/plain": [
       "<matplotlib.collections.PathCollection at 0x7f877f0fb3d0>"
      ]
     },
     "execution_count": 52,
     "metadata": {},
     "output_type": "execute_result"
    },
    {
     "data": {
      "image/png": "[encoded data removed]",
      "text/plain": [
       "<Figure size 432x288 with 1 Axes>"
      ]
     },
     "metadata": {
      "needs_background": "light"
     },
     "output_type": "display_data"
    }
   ],
   "source": [
    "plt.scatter(train.groupby(by=\"air_year\")[\"Score\"].mean().index,train.groupby(by=\"air_year\")[\"Score\"].mean())"
   ]
  },
  {
   "cell_type": "code",
   "execution_count": 53,
   "id": "9e9da4a3",
   "metadata": {},
   "outputs": [
    {
     "name": "stdout",
     "output_type": "stream",
     "text": [
      "air_year\n"
     ]
    }
   ],
   "source": [
    "from sklearn.model_selection import StratifiedKFold, KFold,GroupKFold\n",
    "SEED = 0\n",
    "N_SPLITS = 5\n",
    "SHUFFLE = True\n",
    "kf = KFold(n_splits=N_SPLITS,random_state = SEED,shuffle=SHUFFLE)\n",
    "cat_cols = [\"air_year\"]\n",
    "target = \"Score\"\n",
    "for c in cat_cols:\n",
    "    print(c)\n",
    "    train[f\"{c}_target_encoding\"] = np.nan\n",
    "    test[f\"{c}_target_encoding\"] = np.nan\n",
    "    for fold, (train_idx, valid_idx) in enumerate(kf.split(train,train[target])):\n",
    "        x_train_dict = train.iloc[train_idx][[target,c]].groupby(by=c)[target].mean().to_dict()\n",
    "        train.loc[valid_idx,f\"{c}_target_encoding\"] = train.loc[valid_idx,c].map(x_train_dict)\n",
    "    train_dict = train[[target,c]].groupby(by=c)[target].mean().to_dict()\n",
    "    test[f\"{c}_target_encoding\"] = test[c].map(train_dict)"
   ]
  },
  {
   "cell_type": "code",
   "execution_count": 54,
   "id": "c6f87e09",
   "metadata": {},
   "outputs": [],
   "source": [
    "train = pd.concat([train[[\"air_year_target_encoding\"]],test[[\"air_year_target_encoding\"]]]).reset_index(drop=True)"
   ]
  },
  {
   "cell_type": "code",
   "execution_count": 55,
   "id": "b2b21a8e",
   "metadata": {},
   "outputs": [
    {
     "name": "stdout",
     "output_type": "stream",
     "text": [
      "Memory usage of dataframe is 0.09 MB\n",
      "column =  1\n",
      "0\n",
      "Memory usage after optimization is: 0.05 MB\n",
      "Decreased by 49.9%\n"
     ]
    }
   ],
   "source": [
    "train = reduce_mem_usage(train)\n",
    "train.to_feather(SAVE_PATH)"
   ]
  },
  {
   "cell_type": "code",
   "execution_count": null,
   "id": "1623a4bb",
   "metadata": {},
   "outputs": [],
   "source": []
  },
  {
   "cell_type": "code",
   "execution_count": null,
   "id": "d192d39c",
   "metadata": {},
   "outputs": [],
   "source": []
  }
 ],
 "metadata": {
  "kernelspec": {
   "display_name": "Python 3 (ipykernel)",
   "language": "python",
   "name": "python3"
  },
  "language_info": {
   "codemirror_mode": {
    "name": "ipython",
    "version": 3
   },
   "file_extension": ".py",
   "mimetype": "text/x-python",
   "name": "python",
   "nbconvert_exporter": "python",
   "pygments_lexer": "ipython3",
   "version": "3.7.10"
  }
 },
 "nbformat": 4,
 "nbformat_minor": 5
}
