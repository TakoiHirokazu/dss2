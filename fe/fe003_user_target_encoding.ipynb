{
 "cells": [
  {
   "cell_type": "code",
   "execution_count": 1,
   "id": "877ef897",
   "metadata": {},
   "outputs": [
    {
     "data": {
      "text/html": [
       "<style type='text/css'>\n",
       ".datatable table.frame { margin-bottom: 0; }\n",
       ".datatable table.frame thead { border-bottom: none; }\n",
       ".datatable table.frame tr.coltypes td {  color: #FFFFFF;  line-height: 6px;  padding: 0 0.5em;}\n",
       ".datatable .bool    { background: #DDDD99; }\n",
       ".datatable .object  { background: #565656; }\n",
       ".datatable .int     { background: #5D9E5D; }\n",
       ".datatable .float   { background: #4040CC; }\n",
       ".datatable .str     { background: #CC4040; }\n",
       ".datatable .time    { background: #40CC40; }\n",
       ".datatable .row_index {  background: var(--jp-border-color3);  border-right: 1px solid var(--jp-border-color0);  color: var(--jp-ui-font-color3);  font-size: 9px;}\n",
       ".datatable .frame tbody td { text-align: left; }\n",
       ".datatable .frame tr.coltypes .row_index {  background: var(--jp-border-color0);}\n",
       ".datatable th:nth-child(2) { padding-left: 12px; }\n",
       ".datatable .hellipsis {  color: var(--jp-cell-editor-border-color);}\n",
       ".datatable .vellipsis {  background: var(--jp-layout-color0);  color: var(--jp-cell-editor-border-color);}\n",
       ".datatable .na {  color: var(--jp-cell-editor-border-color);  font-size: 80%;}\n",
       ".datatable .sp {  opacity: 0.25;}\n",
       ".datatable .footer { font-size: 9px; }\n",
       ".datatable .frame_dimensions {  background: var(--jp-border-color3);  border-top: 1px solid var(--jp-border-color0);  color: var(--jp-ui-font-color3);  display: inline-block;  opacity: 0.6;  padding: 1px 10px 1px 5px;}\n",
       "</style>\n"
      ],
      "text/plain": [
       "<IPython.core.display.HTML object>"
      ]
     },
     "metadata": {},
     "output_type": "display_data"
    }
   ],
   "source": [
    "import pandas as pd\n",
    "import numpy as np\n",
    "import matplotlib.pyplot as plt\n",
    "import os\n",
    "from tqdm import tqdm_notebook as tqdm\n",
    "import sys\n",
    "sys.path.append(\"../src/\")\n",
    "from logger import setup_logger, LOGGER\n",
    "from trainer import train_lgbm\n",
    "from util_tool import reduce_mem_usage\n",
    "%matplotlib inline\n",
    "pd.set_option('display.max_columns', 300)"
   ]
  },
  {
   "cell_type": "code",
   "execution_count": 2,
   "id": "6937d90e",
   "metadata": {},
   "outputs": [],
   "source": [
    "# ==================\n",
    "# Constant\n",
    "# ==================\n",
    "TRAIN_PATH = \"../input/train.csv\"\n",
    "TEST_PATH = \"../input/test.csv\"\n",
    "USER_PATH = \"../input/user_x_anime.csv\""
   ]
  },
  {
   "cell_type": "code",
   "execution_count": 3,
   "id": "67e9a397",
   "metadata": {},
   "outputs": [],
   "source": [
    "# =====================\n",
    "# Settings\n",
    "# =====================\n",
    "SAVE_PATH = \"../output/fe/fe003.feather\""
   ]
  },
  {
   "cell_type": "code",
   "execution_count": 4,
   "id": "e525d7d5",
   "metadata": {},
   "outputs": [],
   "source": [
    "train = pd.read_csv(TRAIN_PATH)\n",
    "test = pd.read_csv(TEST_PATH)\n",
    "user = pd.read_csv(USER_PATH)"
   ]
  },
  {
   "cell_type": "code",
   "execution_count": 5,
   "id": "180a9ab3",
   "metadata": {},
   "outputs": [
    {
     "data": {
      "text/plain": [
       "0           1\n",
       "1          16\n",
       "2          22\n",
       "3          23\n",
       "4          47\n",
       "        ...  \n",
       "4995    44407\n",
       "4996    45753\n",
       "4997    45782\n",
       "4998    45999\n",
       "4999    47614\n",
       "Name: MAL_ID, Length: 5000, dtype: int64"
      ]
     },
     "execution_count": 5,
     "metadata": {},
     "output_type": "execute_result"
    }
   ],
   "source": [
    "train[\"MAL_ID\"]"
   ]
  },
  {
   "cell_type": "code",
   "execution_count": 6,
   "id": "e07405e8",
   "metadata": {},
   "outputs": [],
   "source": [
    "cols = [\"MAL_ID\"]\n",
    "train = pd.concat([train[cols],test[cols]]).reset_index(drop=True)"
   ]
  },
  {
   "cell_type": "code",
   "execution_count": 8,
   "id": "fa26d49f",
   "metadata": {},
   "outputs": [
    {
     "data": {
      "text/html": [
       "<div>\n",
       "<style scoped>\n",
       "    .dataframe tbody tr th:only-of-type {\n",
       "        vertical-align: middle;\n",
       "    }\n",
       "\n",
       "    .dataframe tbody tr th {\n",
       "        vertical-align: top;\n",
       "    }\n",
       "\n",
       "    .dataframe thead th {\n",
       "        text-align: right;\n",
       "    }\n",
       "</style>\n",
       "<table border=\"1\" class=\"dataframe\">\n",
       "  <thead>\n",
       "    <tr style=\"text-align: right;\">\n",
       "      <th></th>\n",
       "      <th>user_id</th>\n",
       "      <th>anime_id</th>\n",
       "      <th>rating</th>\n",
       "      <th>watching_status</th>\n",
       "      <th>watched_episodes</th>\n",
       "    </tr>\n",
       "  </thead>\n",
       "  <tbody>\n",
       "    <tr>\n",
       "      <th>0</th>\n",
       "      <td>310366</td>\n",
       "      <td>11009</td>\n",
       "      <td>NaN</td>\n",
       "      <td>6</td>\n",
       "      <td>0</td>\n",
       "    </tr>\n",
       "    <tr>\n",
       "      <th>1</th>\n",
       "      <td>321597</td>\n",
       "      <td>4063</td>\n",
       "      <td>NaN</td>\n",
       "      <td>2</td>\n",
       "      <td>12</td>\n",
       "    </tr>\n",
       "    <tr>\n",
       "      <th>2</th>\n",
       "      <td>37696</td>\n",
       "      <td>114</td>\n",
       "      <td>9.0</td>\n",
       "      <td>2</td>\n",
       "      <td>26</td>\n",
       "    </tr>\n",
       "    <tr>\n",
       "      <th>3</th>\n",
       "      <td>316142</td>\n",
       "      <td>863</td>\n",
       "      <td>0.0</td>\n",
       "      <td>6</td>\n",
       "      <td>0</td>\n",
       "    </tr>\n",
       "    <tr>\n",
       "      <th>4</th>\n",
       "      <td>333376</td>\n",
       "      <td>32379</td>\n",
       "      <td>4.0</td>\n",
       "      <td>4</td>\n",
       "      <td>1</td>\n",
       "    </tr>\n",
       "    <tr>\n",
       "      <th>...</th>\n",
       "      <td>...</td>\n",
       "      <td>...</td>\n",
       "      <td>...</td>\n",
       "      <td>...</td>\n",
       "      <td>...</td>\n",
       "    </tr>\n",
       "    <tr>\n",
       "      <th>26992848</th>\n",
       "      <td>112800</td>\n",
       "      <td>617</td>\n",
       "      <td>NaN</td>\n",
       "      <td>2</td>\n",
       "      <td>1</td>\n",
       "    </tr>\n",
       "    <tr>\n",
       "      <th>26992849</th>\n",
       "      <td>34131</td>\n",
       "      <td>16498</td>\n",
       "      <td>NaN</td>\n",
       "      <td>2</td>\n",
       "      <td>25</td>\n",
       "    </tr>\n",
       "    <tr>\n",
       "      <th>26992850</th>\n",
       "      <td>110747</td>\n",
       "      <td>3927</td>\n",
       "      <td>8.0</td>\n",
       "      <td>2</td>\n",
       "      <td>25</td>\n",
       "    </tr>\n",
       "    <tr>\n",
       "      <th>26992851</th>\n",
       "      <td>94883</td>\n",
       "      <td>37497</td>\n",
       "      <td>NaN</td>\n",
       "      <td>4</td>\n",
       "      <td>6</td>\n",
       "    </tr>\n",
       "    <tr>\n",
       "      <th>26992852</th>\n",
       "      <td>125104</td>\n",
       "      <td>4078</td>\n",
       "      <td>NaN</td>\n",
       "      <td>2</td>\n",
       "      <td>1</td>\n",
       "    </tr>\n",
       "  </tbody>\n",
       "</table>\n",
       "<p>26992853 rows × 5 columns</p>\n",
       "</div>"
      ],
      "text/plain": [
       "          user_id  anime_id  rating  watching_status  watched_episodes\n",
       "0          310366     11009     NaN                6                 0\n",
       "1          321597      4063     NaN                2                12\n",
       "2           37696       114     9.0                2                26\n",
       "3          316142       863     0.0                6                 0\n",
       "4          333376     32379     4.0                4                 1\n",
       "...           ...       ...     ...              ...               ...\n",
       "26992848   112800       617     NaN                2                 1\n",
       "26992849    34131     16498     NaN                2                25\n",
       "26992850   110747      3927     8.0                2                25\n",
       "26992851    94883     37497     NaN                4                 6\n",
       "26992852   125104      4078     NaN                2                 1\n",
       "\n",
       "[26992853 rows x 5 columns]"
      ]
     },
     "execution_count": 8,
     "metadata": {},
     "output_type": "execute_result"
    }
   ],
   "source": [
    "user"
   ]
  },
  {
   "cell_type": "code",
   "execution_count": 9,
   "id": "5c25dcea",
   "metadata": {},
   "outputs": [
    {
     "name": "stdout",
     "output_type": "stream",
     "text": [
      "user_id\n"
     ]
    }
   ],
   "source": [
    "# target_encoding\n",
    "from sklearn.model_selection import StratifiedKFold, KFold,GroupKFold\n",
    "SEED = 0\n",
    "N_SPLITS = 5\n",
    "SHUFFLE = True\n",
    "kf = KFold(n_splits=N_SPLITS,random_state = SEED,shuffle=SHUFFLE)\n",
    "cat_cols = [\"user_id\"]\n",
    "for c in cat_cols:\n",
    "    print(c)\n",
    "    user[\"rate_mean\"] = np.nan\n",
    "    for fold, (train_idx, valid_idx) in enumerate(kf.split(user,user[\"rating\"])):\n",
    "        x_train_dict = user.iloc[train_idx][[\"rating\",c]].groupby(by=c)[\"rating\"].mean().to_dict()\n",
    "        user.loc[valid_idx,\"rate_mean\"] = user.loc[valid_idx,c].map(x_train_dict)"
   ]
  },
  {
   "cell_type": "code",
   "execution_count": 11,
   "id": "146dde68",
   "metadata": {},
   "outputs": [],
   "source": [
    "user_rate_mean = user[[\"anime_id\",\"rate_mean\"]].groupby(by=\"anime_id\")[\"rate_mean\"].mean().to_dict()\n",
    "user_rate_std = user[[\"anime_id\",\"rate_mean\"]].groupby(by=\"anime_id\")[\"rate_mean\"].std().to_dict()"
   ]
  },
  {
   "cell_type": "code",
   "execution_count": 12,
   "id": "bd4d210b",
   "metadata": {},
   "outputs": [],
   "source": [
    "train[\"anime_id_rate_mean\"] = train[\"MAL_ID\"].map(user_rate_mean)\n",
    "train[\"anime_id_rate_std\"] = train[\"MAL_ID\"].map(user_rate_std)"
   ]
  },
  {
   "cell_type": "code",
   "execution_count": 14,
   "id": "1d55dfba",
   "metadata": {},
   "outputs": [],
   "source": [
    "cols = [\"anime_id_rate_mean\", \"anime_id_rate_std\"]"
   ]
  },
  {
   "cell_type": "code",
   "execution_count": 15,
   "id": "b424abcd",
   "metadata": {},
   "outputs": [
    {
     "name": "stdout",
     "output_type": "stream",
     "text": [
      "Memory usage of dataframe is 0.28 MB\n",
      "column =  3\n",
      "0\n",
      "Memory usage after optimization is: 0.14 MB\n",
      "Decreased by 50.0%\n"
     ]
    }
   ],
   "source": [
    "train = reduce_mem_usage(train)\n",
    "train[cols].to_feather(SAVE_PATH)"
   ]
  },
  {
   "cell_type": "code",
   "execution_count": 17,
   "id": "9a8074a5",
   "metadata": {},
   "outputs": [
    {
     "data": {
      "text/plain": [
       "<AxesSubplot:>"
      ]
     },
     "execution_count": 17,
     "metadata": {},
     "output_type": "execute_result"
    },
    {
     "data": {
      "image/png": "[encoded data removed]",
      "text/plain": [
       "<Figure size 432x288 with 1 Axes>"
      ]
     },
     "metadata": {
      "needs_background": "light"
     },
     "output_type": "display_data"
    }
   ],
   "source": [
    "train[\"anime_id_rate_mean\"].hist()"
   ]
  },
  {
   "cell_type": "code",
   "execution_count": null,
   "id": "a3b58301",
   "metadata": {},
   "outputs": [],
   "source": []
  }
 ],
 "metadata": {
  "kernelspec": {
   "display_name": "Python 3 (ipykernel)",
   "language": "python",
   "name": "python3"
  },
  "language_info": {
   "codemirror_mode": {
    "name": "ipython",
    "version": 3
   },
   "file_extension": ".py",
   "mimetype": "text/x-python",
   "name": "python",
   "nbconvert_exporter": "python",
   "pygments_lexer": "ipython3",
   "version": "3.7.10"
  }
 },
 "nbformat": 4,
 "nbformat_minor": 5
}
