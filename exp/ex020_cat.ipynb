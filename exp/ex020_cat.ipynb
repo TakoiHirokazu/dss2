{
 "cells": [
  {
   "cell_type": "code",
   "execution_count": 1,
   "id": "ae84bae8",
   "metadata": {},
   "outputs": [
    {
     "data": {
      "text/html": [
       "<style type='text/css'>\n",
       ".datatable table.frame { margin-bottom: 0; }\n",
       ".datatable table.frame thead { border-bottom: none; }\n",
       ".datatable table.frame tr.coltypes td {  color: #FFFFFF;  line-height: 6px;  padding: 0 0.5em;}\n",
       ".datatable .bool    { background: #DDDD99; }\n",
       ".datatable .object  { background: #565656; }\n",
       ".datatable .int     { background: #5D9E5D; }\n",
       ".datatable .float   { background: #4040CC; }\n",
       ".datatable .str     { background: #CC4040; }\n",
       ".datatable .time    { background: #40CC40; }\n",
       ".datatable .row_index {  background: var(--jp-border-color3);  border-right: 1px solid var(--jp-border-color0);  color: var(--jp-ui-font-color3);  font-size: 9px;}\n",
       ".datatable .frame tbody td { text-align: left; }\n",
       ".datatable .frame tr.coltypes .row_index {  background: var(--jp-border-color0);}\n",
       ".datatable th:nth-child(2) { padding-left: 12px; }\n",
       ".datatable .hellipsis {  color: var(--jp-cell-editor-border-color);}\n",
       ".datatable .vellipsis {  background: var(--jp-layout-color0);  color: var(--jp-cell-editor-border-color);}\n",
       ".datatable .na {  color: var(--jp-cell-editor-border-color);  font-size: 80%;}\n",
       ".datatable .sp {  opacity: 0.25;}\n",
       ".datatable .footer { font-size: 9px; }\n",
       ".datatable .frame_dimensions {  background: var(--jp-border-color3);  border-top: 1px solid var(--jp-border-color0);  color: var(--jp-ui-font-color3);  display: inline-block;  opacity: 0.6;  padding: 1px 10px 1px 5px;}\n",
       "</style>\n"
      ],
      "text/plain": [
       "<IPython.core.display.HTML object>"
      ]
     },
     "metadata": {},
     "output_type": "display_data"
    }
   ],
   "source": [
    "# ==================\n",
    "# Library\n",
    "# ==================\n",
    "import warnings\n",
    "warnings.simplefilter('ignore')\n",
    "import math\n",
    "import pandas as pd\n",
    "import numpy as np\n",
    "import lightgbm as lgb\n",
    "import time\n",
    "import datetime\n",
    "import gc\n",
    "from sklearn.preprocessing import StandardScaler\n",
    "from sklearn.model_selection import StratifiedKFold, KFold,GroupKFold\n",
    "from sklearn.metrics import mean_absolute_error\n",
    "from sklearn.linear_model import LinearRegression\n",
    "from contextlib import contextmanager\n",
    "import logging\n",
    "from tqdm import tqdm_notebook as tqdm\n",
    "from sklearn.metrics import cohen_kappa_score, mean_squared_error\n",
    "from sklearn.metrics import log_loss\n",
    "import sys\n",
    "import time\n",
    "import feather\n",
    "import matplotlib.pyplot as plt\n",
    "from sklearn.metrics import f1_score\n",
    "from sklearn.preprocessing import LabelEncoder\n",
    "import pickle\n",
    "%matplotlib inline\n",
    "from sklearn.metrics import average_precision_score\n",
    "\n",
    "sys.path.append(\"../src/\")\n",
    "from logger import setup_logger, LOGGER\n",
    "from trainer import train_lgbm,train_cat_regressor\n",
    "from util_tool import reduce_mem_usage\n",
    "pd.set_option('display.max_columns', 300)"
   ]
  },
  {
   "cell_type": "code",
   "execution_count": 2,
   "id": "35b28e70",
   "metadata": {},
   "outputs": [],
   "source": [
    "# ==================\n",
    "# Constant\n",
    "# ==================\n",
    "ex = \"020\"\n",
    "TRAIN_PATH = \"../input/train.csv\"\n",
    "TEST_PATH = \"../input/test.csv\"\n",
    "USER_PATH = \"../input/user_x_anime.csv\"\n",
    "SUB_PATH = \"../input/sample_submission.csv\"\n",
    "SAVE_OOF_PATH = f\"../output/exp/ex{ex}_oof.npy\"\n",
    "SAVE_TEST_SUB_PATH = f\"../output/exp/ex{ex}_test_sub.csv\"\n",
    "LOGGER_PATH = f\"../output/exp/ex_{ex}.txt\""
   ]
  },
  {
   "cell_type": "code",
   "execution_count": 3,
   "id": "1faa6c76",
   "metadata": {},
   "outputs": [],
   "source": [
    "\n",
    "# ===============\n",
    "# Settings\n",
    "# ===============\n",
    "\n",
    "SEED = 0\n",
    "N_SPLITS = 5\n",
    "SHUFFLE = True\n",
    "CAT_PARAMS = {\n",
    "   'iterations':20000,\n",
    "    'learning_rate': 0.05,\n",
    "    'loss_function':'RMSE',\n",
    "    'random_seed':SEED,\n",
    "    'metric_period':200,\n",
    "    'od_wait':200,\n",
    "    'depth': 8,\n",
    "    }\n",
    "\n",
    "load_feature = [\"../output/fe/fe001.feather\",\n",
    "                \"../output/fe/fe002.feather\",\n",
    "                \"../output/fe/fe003.feather\",\n",
    "                \"../output/fe/fe004.feather\",\n",
    "                \"../output/fe/fe005.feather\",\n",
    "                \"../output/fe/fe006.feather\",\n",
    "                \"../output/fe/fe007.feather\",\n",
    "                \"../output/fe/fe009.feather\",\n",
    "                \"../output/fe/fe011.feather\",\n",
    "                \"../output/fe/fe012.feather\",\n",
    "                \"../output/fe/fe020.feather\",]"
   ]
  },
  {
   "cell_type": "code",
   "execution_count": 4,
   "id": "152eb4d3",
   "metadata": {},
   "outputs": [],
   "source": [
    "# ====================\n",
    "# Function\n",
    "# ====================\n",
    "\n",
    "def calc_loss(y_true, y_pred):\n",
    "    return  np.sqrt(mean_squared_error(y_true, y_pred))\n",
    "\n",
    "\n",
    "@contextmanager\n",
    "def timer(name):\n",
    "    t0 = time.time()\n",
    "    yield \n",
    "    LOGGER.info(f'[{name}] done in {time.time() - t0:.0f} s')"
   ]
  },
  {
   "cell_type": "code",
   "execution_count": 5,
   "id": "7dc49f9a",
   "metadata": {},
   "outputs": [
    {
     "name": "stderr",
     "output_type": "stream",
     "text": [
      "2021-08-20 13:17:49,936 - INFO - logger set up\n"
     ]
    },
    {
     "data": {
      "text/plain": [
       "<RootLogger root (DEBUG)>"
      ]
     },
     "execution_count": 5,
     "metadata": {},
     "output_type": "execute_result"
    }
   ],
   "source": [
    "LOGGER = logging.getLogger()\n",
    "FORMATTER = logging.Formatter(\"%(asctime)s - %(levelname)s - %(message)s\")\n",
    "setup_logger(out_file=LOGGER_PATH)"
   ]
  },
  {
   "cell_type": "code",
   "execution_count": 7,
   "id": "2a86ac00",
   "metadata": {},
   "outputs": [],
   "source": [
    "# ====================\n",
    "# Main\n",
    "# ====================\n",
    "train_raw = pd.read_csv(TRAIN_PATH)\n",
    "y = train_raw[\"Score\"]\n",
    "df = None\n",
    "for i in load_feature:\n",
    "    if df is not None:\n",
    "        _df = pd.read_feather(i)\n",
    "        df  = pd.concat([df, _df], axis=1)\n",
    "    else:\n",
    "        df = pd.read_feather(i)\n",
    "train = df.iloc[:len(train_raw)]\n",
    "test = df.iloc[len(train_raw):].reset_index(drop=True)"
   ]
  },
  {
   "cell_type": "code",
   "execution_count": 10,
   "id": "2bedfac5",
   "metadata": {},
   "outputs": [
    {
     "name": "stdout",
     "output_type": "stream",
     "text": [
      "Fold 1\n",
      "train: 4000\n",
      "0:\tlearn: 0.8518994\ttest: 0.8568559\tbest: 0.8568559 (0)\ttotal: 42.1ms\tremaining: 14m 2s\n"
     ]
    },
    {
     "name": "stderr",
     "output_type": "stream",
     "text": [
      "Warning: Overfitting detector is active, thus evaluation metric is calculated on every iteration. 'metric_period' is ignored for evaluation metric.\n"
     ]
    },
    {
     "name": "stdout",
     "output_type": "stream",
     "text": [
      "200:\tlearn: 0.2552114\ttest: 0.3488712\tbest: 0.3488712 (200)\ttotal: 7.17s\tremaining: 11m 46s\n",
      "400:\tlearn: 0.1744673\ttest: 0.3357815\tbest: 0.3357815 (400)\ttotal: 13.9s\tremaining: 11m 20s\n",
      "600:\tlearn: 0.1290417\ttest: 0.3332477\tbest: 0.3331908 (596)\ttotal: 20.4s\tremaining: 10m 58s\n",
      "800:\tlearn: 0.0971300\ttest: 0.3314566\tbest: 0.3314473 (796)\ttotal: 26.9s\tremaining: 10m 43s\n",
      "1000:\tlearn: 0.0750533\ttest: 0.3304170\tbest: 0.3304170 (1000)\ttotal: 33.3s\tremaining: 10m 32s\n",
      "1200:\tlearn: 0.0576286\ttest: 0.3297896\tbest: 0.3297819 (1199)\ttotal: 39.8s\tremaining: 10m 23s\n",
      "1400:\tlearn: 0.0450115\ttest: 0.3292687\tbest: 0.3292493 (1396)\ttotal: 46.3s\tremaining: 10m 14s\n",
      "1600:\tlearn: 0.0354175\ttest: 0.3289647\tbest: 0.3289411 (1588)\ttotal: 52.8s\tremaining: 10m 7s\n",
      "1800:\tlearn: 0.0280936\ttest: 0.3288008\tbest: 0.3287708 (1789)\ttotal: 59.3s\tremaining: 9m 59s\n",
      "2000:\tlearn: 0.0224442\ttest: 0.3286887\tbest: 0.3286809 (1999)\ttotal: 1m 5s\tremaining: 9m 51s\n",
      "2200:\tlearn: 0.0180487\ttest: 0.3286662\tbest: 0.3286657 (2120)\ttotal: 1m 12s\tremaining: 9m 44s\n",
      "2400:\tlearn: 0.0144101\ttest: 0.3285361\tbest: 0.3285259 (2368)\ttotal: 1m 18s\tremaining: 9m 37s\n",
      "2600:\tlearn: 0.0116560\ttest: 0.3285190\tbest: 0.3284975 (2471)\ttotal: 1m 25s\tremaining: 9m 30s\n"
     ]
    },
    {
     "name": "stderr",
     "output_type": "stream",
     "text": [
      "2021-08-20 13:23:07,988 - INFO - Fold0:CV=0.32849747972953836\n",
      "2021-08-20 13:23:07,990 - INFO - [fold 0] done in 91 s\n"
     ]
    },
    {
     "name": "stdout",
     "output_type": "stream",
     "text": [
      "Stopped by overfitting detector  (200 iterations wait)\n",
      "\n",
      "bestTest = 0.3284974825\n",
      "bestIteration = 2471\n",
      "\n",
      "Shrink model to first 2472 iterations.\n",
      "Fold 2\n",
      "train: 4000\n",
      "0:\tlearn: 0.8526102\ttest: 0.8594184\tbest: 0.8594184 (0)\ttotal: 27ms\tremaining: 9m\n"
     ]
    },
    {
     "name": "stderr",
     "output_type": "stream",
     "text": [
      "Warning: Overfitting detector is active, thus evaluation metric is calculated on every iteration. 'metric_period' is ignored for evaluation metric.\n"
     ]
    },
    {
     "name": "stdout",
     "output_type": "stream",
     "text": [
      "200:\tlearn: 0.2550676\ttest: 0.3425579\tbest: 0.3425579 (200)\ttotal: 6.58s\tremaining: 10m 48s\n",
      "400:\tlearn: 0.1745801\ttest: 0.3261381\tbest: 0.3261381 (400)\ttotal: 13.2s\tremaining: 10m 44s\n",
      "600:\tlearn: 0.1275198\ttest: 0.3215203\tbest: 0.3215100 (599)\ttotal: 19.7s\tremaining: 10m 36s\n",
      "800:\tlearn: 0.0971412\ttest: 0.3205821\tbest: 0.3205821 (800)\ttotal: 26.3s\tremaining: 10m 29s\n",
      "1000:\tlearn: 0.0752884\ttest: 0.3197521\tbest: 0.3196709 (938)\ttotal: 33.2s\tremaining: 10m 29s\n",
      "1200:\tlearn: 0.0583635\ttest: 0.3193147\tbest: 0.3193147 (1200)\ttotal: 39.9s\tremaining: 10m 24s\n",
      "1400:\tlearn: 0.0447415\ttest: 0.3187240\tbest: 0.3186647 (1391)\ttotal: 46.7s\tremaining: 10m 19s\n",
      "1600:\tlearn: 0.0346937\ttest: 0.3183796\tbest: 0.3183647 (1598)\ttotal: 53.4s\tremaining: 10m 13s\n",
      "1800:\tlearn: 0.0274842\ttest: 0.3183215\tbest: 0.3182960 (1647)\ttotal: 1m\tremaining: 10m 8s\n",
      "2000:\tlearn: 0.0218112\ttest: 0.3182222\tbest: 0.3181999 (1987)\ttotal: 1m 6s\tremaining: 10m 2s\n",
      "2200:\tlearn: 0.0173175\ttest: 0.3181222\tbest: 0.3181177 (2198)\ttotal: 1m 13s\tremaining: 9m 56s\n",
      "2400:\tlearn: 0.0136906\ttest: 0.3179809\tbest: 0.3179809 (2400)\ttotal: 1m 20s\tremaining: 9m 49s\n",
      "2600:\tlearn: 0.0109165\ttest: 0.3179697\tbest: 0.3179638 (2534)\ttotal: 1m 27s\tremaining: 9m 43s\n",
      "2800:\tlearn: 0.0088063\ttest: 0.3179268\tbest: 0.3179226 (2783)\ttotal: 1m 33s\tremaining: 9m 36s\n"
     ]
    },
    {
     "name": "stderr",
     "output_type": "stream",
     "text": [
      "2021-08-20 13:24:51,860 - INFO - Fold1:CV=0.31792256060783936\n",
      "2021-08-20 13:24:51,863 - INFO - [fold 1] done in 104 s\n"
     ]
    },
    {
     "name": "stdout",
     "output_type": "stream",
     "text": [
      "Stopped by overfitting detector  (200 iterations wait)\n",
      "\n",
      "bestTest = 0.3179225573\n",
      "bestIteration = 2783\n",
      "\n",
      "Shrink model to first 2784 iterations.\n",
      "Fold 3\n",
      "train: 4000\n"
     ]
    },
    {
     "name": "stderr",
     "output_type": "stream",
     "text": [
      "Warning: Overfitting detector is active, thus evaluation metric is calculated on every iteration. 'metric_period' is ignored for evaluation metric.\n"
     ]
    },
    {
     "name": "stdout",
     "output_type": "stream",
     "text": [
      "0:\tlearn: 0.8548214\ttest: 0.8433616\tbest: 0.8433616 (0)\ttotal: 34.3ms\tremaining: 11m 25s\n",
      "200:\tlearn: 0.2517570\ttest: 0.3779170\tbest: 0.3779170 (200)\ttotal: 6.76s\tremaining: 11m 6s\n",
      "400:\tlearn: 0.1723518\ttest: 0.3587731\tbest: 0.3587731 (400)\ttotal: 13.5s\tremaining: 10m 59s\n",
      "600:\tlearn: 0.1261947\ttest: 0.3521270\tbest: 0.3521270 (600)\ttotal: 20.2s\tremaining: 10m 50s\n",
      "800:\tlearn: 0.0971664\ttest: 0.3491603\tbest: 0.3491539 (798)\ttotal: 26.8s\tremaining: 10m 42s\n",
      "1000:\tlearn: 0.0752967\ttest: 0.3474950\tbest: 0.3474619 (990)\ttotal: 33.5s\tremaining: 10m 35s\n",
      "1200:\tlearn: 0.0576364\ttest: 0.3460298\tbest: 0.3460298 (1200)\ttotal: 40.2s\tremaining: 10m 28s\n",
      "1400:\tlearn: 0.0447130\ttest: 0.3453108\tbest: 0.3453015 (1372)\ttotal: 46.9s\tremaining: 10m 21s\n",
      "1600:\tlearn: 0.0352038\ttest: 0.3449663\tbest: 0.3449595 (1598)\ttotal: 53.6s\tremaining: 10m 15s\n",
      "1800:\tlearn: 0.0276757\ttest: 0.3448138\tbest: 0.3447820 (1752)\ttotal: 1m\tremaining: 10m 8s\n",
      "2000:\tlearn: 0.0217834\ttest: 0.3446521\tbest: 0.3446046 (1926)\ttotal: 1m 6s\tremaining: 10m 2s\n"
     ]
    },
    {
     "name": "stderr",
     "output_type": "stream",
     "text": [
      "2021-08-20 13:26:05,748 - INFO - Fold2:CV=0.34460462950536647\n",
      "2021-08-20 13:26:05,750 - INFO - [fold 2] done in 74 s\n"
     ]
    },
    {
     "name": "stdout",
     "output_type": "stream",
     "text": [
      "Stopped by overfitting detector  (200 iterations wait)\n",
      "\n",
      "bestTest = 0.3446046388\n",
      "bestIteration = 1926\n",
      "\n",
      "Shrink model to first 1927 iterations.\n",
      "Fold 4\n",
      "train: 4000\n",
      "0:\tlearn: 0.8549949\ttest: 0.8419980\tbest: 0.8419980 (0)\ttotal: 30.6ms\tremaining: 10m 12s\n"
     ]
    },
    {
     "name": "stderr",
     "output_type": "stream",
     "text": [
      "Warning: Overfitting detector is active, thus evaluation metric is calculated on every iteration. 'metric_period' is ignored for evaluation metric.\n"
     ]
    },
    {
     "name": "stdout",
     "output_type": "stream",
     "text": [
      "200:\tlearn: 0.2532112\ttest: 0.3600480\tbest: 0.3600480 (200)\ttotal: 6.9s\tremaining: 11m 19s\n",
      "400:\tlearn: 0.1727612\ttest: 0.3434508\tbest: 0.3434508 (400)\ttotal: 13.6s\tremaining: 11m 7s\n",
      "600:\tlearn: 0.1262227\ttest: 0.3386079\tbest: 0.3386079 (600)\ttotal: 20.4s\tremaining: 10m 57s\n",
      "800:\tlearn: 0.0958982\ttest: 0.3361780\tbest: 0.3361103 (795)\ttotal: 27.3s\tremaining: 10m 54s\n",
      "1000:\tlearn: 0.0737644\ttest: 0.3352122\tbest: 0.3352122 (1000)\ttotal: 34s\tremaining: 10m 45s\n",
      "1200:\tlearn: 0.0561076\ttest: 0.3344617\tbest: 0.3344617 (1200)\ttotal: 40.7s\tremaining: 10m 36s\n",
      "1400:\tlearn: 0.0440863\ttest: 0.3337836\tbest: 0.3337836 (1400)\ttotal: 47.4s\tremaining: 10m 29s\n",
      "1600:\tlearn: 0.0346524\ttest: 0.3335325\tbest: 0.3334939 (1582)\ttotal: 54.1s\tremaining: 10m 21s\n",
      "1800:\tlearn: 0.0272135\ttest: 0.3334522\tbest: 0.3334522 (1800)\ttotal: 1m\tremaining: 10m 15s\n",
      "2000:\tlearn: 0.0218037\ttest: 0.3333116\tbest: 0.3333024 (1959)\ttotal: 1m 7s\tremaining: 10m 7s\n",
      "2200:\tlearn: 0.0173868\ttest: 0.3331911\tbest: 0.3331672 (2185)\ttotal: 1m 14s\tremaining: 10m\n",
      "2400:\tlearn: 0.0140018\ttest: 0.3331197\tbest: 0.3331049 (2361)\ttotal: 1m 20s\tremaining: 9m 53s\n",
      "2600:\tlearn: 0.0112998\ttest: 0.3330970\tbest: 0.3330678 (2464)\ttotal: 1m 27s\tremaining: 9m 45s\n"
     ]
    },
    {
     "name": "stderr",
     "output_type": "stream",
     "text": [
      "2021-08-20 13:27:38,717 - INFO - Fold3:CV=0.3330678126294243\n",
      "2021-08-20 13:27:38,719 - INFO - [fold 3] done in 93 s\n"
     ]
    },
    {
     "name": "stdout",
     "output_type": "stream",
     "text": [
      "Stopped by overfitting detector  (200 iterations wait)\n",
      "\n",
      "bestTest = 0.3330678111\n",
      "bestIteration = 2464\n",
      "\n",
      "Shrink model to first 2465 iterations.\n",
      "Fold 5\n",
      "train: 4000\n"
     ]
    },
    {
     "name": "stderr",
     "output_type": "stream",
     "text": [
      "Warning: Overfitting detector is active, thus evaluation metric is calculated on every iteration. 'metric_period' is ignored for evaluation metric.\n"
     ]
    },
    {
     "name": "stdout",
     "output_type": "stream",
     "text": [
      "0:\tlearn: 0.8492829\ttest: 0.8658530\tbest: 0.8658530 (0)\ttotal: 32.5ms\tremaining: 10m 50s\n",
      "200:\tlearn: 0.2548141\ttest: 0.3729050\tbest: 0.3729050 (200)\ttotal: 6.66s\tremaining: 10m 55s\n",
      "400:\tlearn: 0.1747158\ttest: 0.3558609\tbest: 0.3558609 (400)\ttotal: 13.2s\tremaining: 10m 44s\n",
      "600:\tlearn: 0.1291633\ttest: 0.3501902\tbest: 0.3501774 (599)\ttotal: 19.8s\tremaining: 10m 37s\n",
      "800:\tlearn: 0.0982781\ttest: 0.3474737\tbest: 0.3474625 (799)\ttotal: 26.5s\tremaining: 10m 35s\n",
      "1000:\tlearn: 0.0755819\ttest: 0.3466008\tbest: 0.3465993 (998)\ttotal: 33.1s\tremaining: 10m 28s\n",
      "1200:\tlearn: 0.0591677\ttest: 0.3458934\tbest: 0.3458865 (1196)\ttotal: 39.7s\tremaining: 10m 22s\n",
      "1400:\tlearn: 0.0464909\ttest: 0.3452610\tbest: 0.3452416 (1399)\ttotal: 46.4s\tremaining: 10m 15s\n",
      "1600:\tlearn: 0.0365399\ttest: 0.3448054\tbest: 0.3447929 (1597)\ttotal: 52.9s\tremaining: 10m 8s\n",
      "1800:\tlearn: 0.0290415\ttest: 0.3445475\tbest: 0.3445254 (1793)\ttotal: 59.5s\tremaining: 10m 1s\n",
      "2000:\tlearn: 0.0231340\ttest: 0.3443768\tbest: 0.3443744 (1997)\ttotal: 1m 6s\tremaining: 9m 55s\n",
      "2200:\tlearn: 0.0185536\ttest: 0.3442751\tbest: 0.3442653 (2177)\ttotal: 1m 12s\tremaining: 9m 49s\n",
      "2400:\tlearn: 0.0148073\ttest: 0.3440859\tbest: 0.3440859 (2400)\ttotal: 1m 19s\tremaining: 9m 42s\n",
      "2600:\tlearn: 0.0119134\ttest: 0.3439964\tbest: 0.3439964 (2600)\ttotal: 1m 26s\tremaining: 9m 35s\n",
      "2800:\tlearn: 0.0096762\ttest: 0.3439276\tbest: 0.3439212 (2725)\ttotal: 1m 32s\tremaining: 9m 28s\n",
      "3000:\tlearn: 0.0078215\ttest: 0.3438928\tbest: 0.3438893 (2986)\ttotal: 1m 39s\tremaining: 9m 21s\n",
      "3200:\tlearn: 0.0063921\ttest: 0.3438616\tbest: 0.3438601 (3199)\ttotal: 1m 45s\tremaining: 9m 15s\n",
      "3400:\tlearn: 0.0051260\ttest: 0.3438740\tbest: 0.3438591 (3210)\ttotal: 1m 52s\tremaining: 9m 8s\n"
     ]
    },
    {
     "name": "stderr",
     "output_type": "stream",
     "text": [
      "2021-08-20 13:29:35,696 - INFO - Fold4:CV=0.3438590735777117\n",
      "2021-08-20 13:29:35,698 - INFO - [fold 4] done in 117 s\n",
      "2021-08-20 13:29:35,708 - INFO - CV=0.3337396978784831\n",
      "2021-08-20 13:29:35,712 - INFO - [cat] done in 479 s\n"
     ]
    },
    {
     "name": "stdout",
     "output_type": "stream",
     "text": [
      "Stopped by overfitting detector  (200 iterations wait)\n",
      "\n",
      "bestTest = 0.343859077\n",
      "bestIteration = 3210\n",
      "\n",
      "Shrink model to first 3211 iterations.\n"
     ]
    }
   ],
   "source": [
    "with timer(\"cat\"):\n",
    "    kf = KFold(n_splits=N_SPLITS,random_state=SEED, shuffle=SHUFFLE)\n",
    "    y_oof = np.empty([len(train),])\n",
    "    y_test = []\n",
    "    drop_cols = []\n",
    "    features = list(train.columns)\n",
    "    features = [i for i in features if i not in drop_cols]\n",
    "    feature_importances = pd.DataFrame()\n",
    "    categorical_features = []\n",
    "    for fold, (train_idx, valid_idx) in enumerate(kf.split(train,y)):\n",
    "        print('Fold {}'.format(fold + 1))\n",
    "        with timer(f\"fold {fold}\"):\n",
    "            x_train, y_train = train.iloc[train_idx][features], y.iloc[train_idx]\n",
    "            x_val, y_val =train.iloc[valid_idx][features], y.iloc[valid_idx]\n",
    "            print(\"train:\",len(x_train))\n",
    "\n",
    "            y_pred_valid, y_pred_test, valid_loss, best_iter,_ = train_cat_regressor(\n",
    "                    x_train, y_train, x_val, y_val,test[features],\n",
    "                    categorical_features=categorical_features,\n",
    "                    feature_name=features,\n",
    "                    cat_params =CAT_PARAMS,\n",
    "                    loss_func=calc_loss,\n",
    "                )\n",
    "\n",
    "            y_oof[valid_idx] = y_pred_valid\n",
    "            score = calc_loss(y[valid_idx], y_pred_valid)\n",
    "            LOGGER.info(f'Fold{fold}:CV={score}')\n",
    "            y_test.append(y_pred_test)\n",
    "            #feature_importances = pd.concat([feature_importances, importances], axis=0, sort=False)\n",
    "\n",
    "    score = calc_loss(y, y_oof)\n",
    "    np.save(SAVE_OOF_PATH, y_oof)\n",
    "    LOGGER.info(f'CV={score}')"
   ]
  },
  {
   "cell_type": "code",
   "execution_count": 11,
   "id": "e5c71aa4",
   "metadata": {},
   "outputs": [],
   "source": [
    "y_test_sub =  np.mean(y_test,axis=0)\n",
    "sub = pd.read_csv(SUB_PATH)"
   ]
  },
  {
   "cell_type": "code",
   "execution_count": 12,
   "id": "6e59f08e",
   "metadata": {},
   "outputs": [],
   "source": [
    "sub[\"Score\"] = y_test_sub\n",
    "sub.to_csv(SAVE_TEST_SUB_PATH,index=False)"
   ]
  },
  {
   "cell_type": "code",
   "execution_count": 14,
   "id": "2d8e54b6",
   "metadata": {},
   "outputs": [],
   "source": [
    "oof19 = np.load(\"../output/exp/ex019_oof.npy\")"
   ]
  },
  {
   "cell_type": "code",
   "execution_count": 16,
   "id": "e8817b3f",
   "metadata": {},
   "outputs": [
    {
     "data": {
      "text/plain": [
       "array([[1.        , 0.98890199],\n",
       "       [0.98890199, 1.        ]])"
      ]
     },
     "execution_count": 16,
     "metadata": {},
     "output_type": "execute_result"
    }
   ],
   "source": [
    "np.corrcoef(y_oof,oof19)"
   ]
  },
  {
   "cell_type": "code",
   "execution_count": 18,
   "id": "148855be",
   "metadata": {},
   "outputs": [
    {
     "name": "stdout",
     "output_type": "stream",
     "text": [
      "0 0.3337613055899626\n",
      "1 0.33184602403217\n",
      "2 0.3303481984979753\n",
      "3 0.3292735259078852\n",
      "4 0.32862615766980396\n",
      "5 0.3284086207362435\n",
      "6 0.32862176871138615\n",
      "7 0.3292647651908305\n",
      "8 0.33033510008686723\n",
      "9 0.3318286382015323\n",
      "10 0.3337396978784832\n"
     ]
    }
   ],
   "source": [
    "for i in range(11):\n",
    "    print(i,calc_loss(y, y_oof * i * 0.1 + oof19 * (10-i)*0.1))"
   ]
  },
  {
   "cell_type": "code",
   "execution_count": 20,
   "id": "31ef3fe2",
   "metadata": {},
   "outputs": [],
   "source": [
    "ex19 = pd.read_csv(\"../output/exp/ex019_test_sub.csv\")\n",
    "sub[\"Score\"] = ex19[\"Score\"] * 0.5 + sub[\"Score\"] * 0.5\n",
    "sub.to_csv(\"../output/exp/ex19_20.csv\",index=False)"
   ]
  },
  {
   "cell_type": "code",
   "execution_count": null,
   "id": "bedb6a0b",
   "metadata": {},
   "outputs": [],
   "source": []
  }
 ],
 "metadata": {
  "kernelspec": {
   "display_name": "Python 3 (ipykernel)",
   "language": "python",
   "name": "python3"
  },
  "language_info": {
   "codemirror_mode": {
    "name": "ipython",
    "version": 3
   },
   "file_extension": ".py",
   "mimetype": "text/x-python",
   "name": "python",
   "nbconvert_exporter": "python",
   "pygments_lexer": "ipython3",
   "version": "3.7.10"
  }
 },
 "nbformat": 4,
 "nbformat_minor": 5
}
