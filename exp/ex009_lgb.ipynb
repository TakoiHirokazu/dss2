{
 "cells": [
  {
   "cell_type": "code",
   "execution_count": 1,
   "id": "356eddcc",
   "metadata": {},
   "outputs": [
    {
     "data": {
      "text/html": [
       "<style type='text/css'>\n",
       ".datatable table.frame { margin-bottom: 0; }\n",
       ".datatable table.frame thead { border-bottom: none; }\n",
       ".datatable table.frame tr.coltypes td {  color: #FFFFFF;  line-height: 6px;  padding: 0 0.5em;}\n",
       ".datatable .bool    { background: #DDDD99; }\n",
       ".datatable .object  { background: #565656; }\n",
       ".datatable .int     { background: #5D9E5D; }\n",
       ".datatable .float   { background: #4040CC; }\n",
       ".datatable .str     { background: #CC4040; }\n",
       ".datatable .time    { background: #40CC40; }\n",
       ".datatable .row_index {  background: var(--jp-border-color3);  border-right: 1px solid var(--jp-border-color0);  color: var(--jp-ui-font-color3);  font-size: 9px;}\n",
       ".datatable .frame tbody td { text-align: left; }\n",
       ".datatable .frame tr.coltypes .row_index {  background: var(--jp-border-color0);}\n",
       ".datatable th:nth-child(2) { padding-left: 12px; }\n",
       ".datatable .hellipsis {  color: var(--jp-cell-editor-border-color);}\n",
       ".datatable .vellipsis {  background: var(--jp-layout-color0);  color: var(--jp-cell-editor-border-color);}\n",
       ".datatable .na {  color: var(--jp-cell-editor-border-color);  font-size: 80%;}\n",
       ".datatable .sp {  opacity: 0.25;}\n",
       ".datatable .footer { font-size: 9px; }\n",
       ".datatable .frame_dimensions {  background: var(--jp-border-color3);  border-top: 1px solid var(--jp-border-color0);  color: var(--jp-ui-font-color3);  display: inline-block;  opacity: 0.6;  padding: 1px 10px 1px 5px;}\n",
       "</style>\n"
      ],
      "text/plain": [
       "<IPython.core.display.HTML object>"
      ]
     },
     "metadata": {},
     "output_type": "display_data"
    }
   ],
   "source": [
    "# ==================\n",
    "# Library\n",
    "# ==================\n",
    "import warnings\n",
    "warnings.simplefilter('ignore')\n",
    "import math\n",
    "import pandas as pd\n",
    "import numpy as np\n",
    "import lightgbm as lgb\n",
    "import time\n",
    "import datetime\n",
    "import gc\n",
    "from sklearn.preprocessing import StandardScaler\n",
    "from sklearn.model_selection import StratifiedKFold, KFold,GroupKFold\n",
    "from sklearn.metrics import mean_absolute_error\n",
    "from sklearn.linear_model import LinearRegression\n",
    "from contextlib import contextmanager\n",
    "import logging\n",
    "from tqdm import tqdm_notebook as tqdm\n",
    "from sklearn.metrics import cohen_kappa_score, mean_squared_error\n",
    "from sklearn.metrics import log_loss\n",
    "import sys\n",
    "import time\n",
    "import feather\n",
    "import matplotlib.pyplot as plt\n",
    "from sklearn.metrics import f1_score\n",
    "from sklearn.preprocessing import LabelEncoder\n",
    "import pickle\n",
    "%matplotlib inline\n",
    "from sklearn.metrics import average_precision_score\n",
    "\n",
    "sys.path.append(\"../src/\")\n",
    "from logger import setup_logger, LOGGER\n",
    "from trainer import train_lgbm\n",
    "from util_tool import reduce_mem_usage\n",
    "pd.set_option('display.max_columns', 300)"
   ]
  },
  {
   "cell_type": "code",
   "execution_count": 2,
   "id": "ab7a55c9",
   "metadata": {},
   "outputs": [],
   "source": [
    "# ==================\n",
    "# Constant\n",
    "# ==================\n",
    "ex = \"009\"\n",
    "TRAIN_PATH = \"../input/train.csv\"\n",
    "TEST_PATH = \"../input/test.csv\"\n",
    "USER_PATH = \"../input/user_x_anime.csv\"\n",
    "SUB_PATH = \"../input/sample_submission.csv\"\n",
    "SAVE_OOF_PATH = f\"../output/exp/ex{ex}_oof.npy\"\n",
    "SAVE_TEST_SUB_PATH = f\"../output/exp/ex{ex}_test_sub.csv\"\n",
    "LOGGER_PATH = f\"../output/exp/ex_{ex}.txt\""
   ]
  },
  {
   "cell_type": "code",
   "execution_count": 3,
   "id": "a32f33c7",
   "metadata": {},
   "outputs": [],
   "source": [
    "\n",
    "# ===============\n",
    "# Settings\n",
    "# ===============\n",
    "\n",
    "SEED = 0\n",
    "N_SPLITS = 5\n",
    "SHUFFLE = True\n",
    "LGBM_PARAMS = {'num_leaves': 32,\n",
    "               'min_data_in_leaf': 64,\n",
    "               'objective': 'regression',\n",
    "               'max_depth': -1,\n",
    "               'learning_rate': 0.05,\n",
    "               \"boosting\": \"gbdt\",\n",
    "               \"bagging_freq\": 1,\n",
    "               \"bagging_fraction\": 0.8,\n",
    "               \"bagging_seed\": SEED,\n",
    "               \"verbosity\": -1,\n",
    "              'reg_alpha': 0.1,\n",
    "              'reg_lambda': 0.3,\n",
    "              'colsample_bytree': 0.7,\n",
    "              'metric':\"rmse\",\n",
    "              'num_threads':32,\n",
    "         }\n",
    "\n",
    "LGBM_FIT_PARAMS = {\n",
    "    'num_boost_round': 10000,\n",
    "    'early_stopping_rounds': 200,\n",
    "    'verbose_eval': 200,\n",
    "}\n",
    "\n",
    "load_feature = [\"../output/fe/fe001.feather\",\n",
    "                \"../output/fe/fe002.feather\",\n",
    "                \"../output/fe/fe003.feather\",\n",
    "                \"../output/fe/fe004.feather\",\n",
    "                \"../output/fe/fe005.feather\",\n",
    "                \"../output/fe/fe006.feather\",\n",
    "                \"../output/fe/fe007.feather\",\n",
    "                \"../output/fe/fe009.feather\",]"
   ]
  },
  {
   "cell_type": "code",
   "execution_count": 4,
   "id": "2c735702",
   "metadata": {},
   "outputs": [],
   "source": [
    "# ====================\n",
    "# Function\n",
    "# ====================\n",
    "\n",
    "def calc_loss(y_true, y_pred):\n",
    "    return  np.sqrt(mean_squared_error(y_true, y_pred))\n",
    "\n",
    "\n",
    "@contextmanager\n",
    "def timer(name):\n",
    "    t0 = time.time()\n",
    "    yield \n",
    "    LOGGER.info(f'[{name}] done in {time.time() - t0:.0f} s')"
   ]
  },
  {
   "cell_type": "code",
   "execution_count": 5,
   "id": "169ab9e9",
   "metadata": {},
   "outputs": [
    {
     "name": "stderr",
     "output_type": "stream",
     "text": [
      "2021-08-17 11:55:47,361 - INFO - logger set up\n"
     ]
    },
    {
     "data": {
      "text/plain": [
       "<RootLogger root (DEBUG)>"
      ]
     },
     "execution_count": 5,
     "metadata": {},
     "output_type": "execute_result"
    }
   ],
   "source": [
    "LOGGER = logging.getLogger()\n",
    "FORMATTER = logging.Formatter(\"%(asctime)s - %(levelname)s - %(message)s\")\n",
    "setup_logger(out_file=LOGGER_PATH)"
   ]
  },
  {
   "cell_type": "code",
   "execution_count": 6,
   "id": "2eeacb14",
   "metadata": {},
   "outputs": [],
   "source": [
    "# ====================\n",
    "# Main\n",
    "# ====================\n",
    "train_raw = pd.read_csv(TRAIN_PATH)\n",
    "y = train_raw[\"Score\"]\n",
    "df = None\n",
    "for i in load_feature:\n",
    "    if df is not None:\n",
    "        _df = pd.read_feather(i)\n",
    "        df  = pd.concat([df, _df], axis=1)\n",
    "    else:\n",
    "        df = pd.read_feather(i)\n",
    "train = df.iloc[:len(train_raw)]\n",
    "test = df.iloc[len(train_raw):].reset_index(drop=True)"
   ]
  },
  {
   "cell_type": "code",
   "execution_count": 7,
   "id": "b216f156",
   "metadata": {},
   "outputs": [
    {
     "data": {
      "text/plain": [
       "0       8.78\n",
       "1       8.06\n",
       "2       7.90\n",
       "3       6.38\n",
       "4       8.17\n",
       "        ... \n",
       "4995    7.23\n",
       "4996    6.54\n",
       "4997    6.51\n",
       "4998    5.92\n",
       "4999    6.83\n",
       "Name: Score, Length: 5000, dtype: float64"
      ]
     },
     "execution_count": 7,
     "metadata": {},
     "output_type": "execute_result"
    }
   ],
   "source": [
    "y"
   ]
  },
  {
   "cell_type": "code",
   "execution_count": 8,
   "id": "b23780be",
   "metadata": {},
   "outputs": [
    {
     "name": "stdout",
     "output_type": "stream",
     "text": [
      "Fold 1\n",
      "train: 4000\n",
      "Training until validation scores don't improve for 200 rounds\n",
      "[200]\ttraining's rmse: 0.258653\tvalid_1's rmse: 0.380074\n",
      "[400]\ttraining's rmse: 0.186016\tvalid_1's rmse: 0.372625\n",
      "[600]\ttraining's rmse: 0.143955\tvalid_1's rmse: 0.371192\n",
      "Early stopping, best iteration is:\n",
      "[518]\ttraining's rmse: 0.159032\tvalid_1's rmse: 0.370564\n"
     ]
    },
    {
     "name": "stderr",
     "output_type": "stream",
     "text": [
      "2021-08-17 11:55:53,123 - INFO - Fold0:CV=0.3705643720216009\n",
      "2021-08-17 11:55:53,130 - INFO - [fold 0] done in 5 s\n"
     ]
    },
    {
     "name": "stdout",
     "output_type": "stream",
     "text": [
      "Fold 2\n",
      "train: 4000\n",
      "Training until validation scores don't improve for 200 rounds\n",
      "[200]\ttraining's rmse: 0.254909\tvalid_1's rmse: 0.380569\n",
      "[400]\ttraining's rmse: 0.183182\tvalid_1's rmse: 0.371504\n",
      "[600]\ttraining's rmse: 0.14135\tvalid_1's rmse: 0.370053\n",
      "[800]\ttraining's rmse: 0.113427\tvalid_1's rmse: 0.37028\n",
      "[1000]\ttraining's rmse: 0.0932725\tvalid_1's rmse: 0.369549\n",
      "[1200]\ttraining's rmse: 0.0784042\tvalid_1's rmse: 0.369441\n",
      "[1400]\ttraining's rmse: 0.0668475\tvalid_1's rmse: 0.369832\n",
      "Early stopping, best iteration is:\n",
      "[1203]\ttraining's rmse: 0.0782016\tvalid_1's rmse: 0.369428\n"
     ]
    },
    {
     "name": "stderr",
     "output_type": "stream",
     "text": [
      "2021-08-17 11:56:05,492 - INFO - Fold1:CV=0.36942781943664554\n",
      "2021-08-17 11:56:05,499 - INFO - [fold 1] done in 12 s\n"
     ]
    },
    {
     "name": "stdout",
     "output_type": "stream",
     "text": [
      "Fold 3\n",
      "train: 4000\n",
      "Training until validation scores don't improve for 200 rounds\n",
      "[200]\ttraining's rmse: 0.257227\tvalid_1's rmse: 0.392204\n",
      "[400]\ttraining's rmse: 0.185547\tvalid_1's rmse: 0.38077\n",
      "[600]\ttraining's rmse: 0.144217\tvalid_1's rmse: 0.378226\n",
      "[800]\ttraining's rmse: 0.116242\tvalid_1's rmse: 0.377519\n",
      "Early stopping, best iteration is:\n",
      "[755]\ttraining's rmse: 0.121709\tvalid_1's rmse: 0.377196\n"
     ]
    },
    {
     "name": "stderr",
     "output_type": "stream",
     "text": [
      "2021-08-17 11:56:14,218 - INFO - Fold2:CV=0.3771957408733036\n",
      "2021-08-17 11:56:14,226 - INFO - [fold 2] done in 9 s\n"
     ]
    },
    {
     "name": "stdout",
     "output_type": "stream",
     "text": [
      "Fold 4\n",
      "train: 4000\n",
      "Training until validation scores don't improve for 200 rounds\n",
      "[200]\ttraining's rmse: 0.261636\tvalid_1's rmse: 0.378879\n",
      "[400]\ttraining's rmse: 0.188253\tvalid_1's rmse: 0.370123\n"
     ]
    },
    {
     "name": "stderr",
     "output_type": "stream",
     "text": [
      "2021-08-17 11:56:19,897 - INFO - Fold3:CV=0.36993855909904033\n",
      "2021-08-17 11:56:19,904 - INFO - [fold 3] done in 6 s\n"
     ]
    },
    {
     "name": "stdout",
     "output_type": "stream",
     "text": [
      "Early stopping, best iteration is:\n",
      "[396]\ttraining's rmse: 0.189383\tvalid_1's rmse: 0.369939\n",
      "Fold 5\n",
      "train: 4000\n",
      "Training until validation scores don't improve for 200 rounds\n",
      "[200]\ttraining's rmse: 0.254339\tvalid_1's rmse: 0.403776\n",
      "[400]\ttraining's rmse: 0.182224\tvalid_1's rmse: 0.393433\n",
      "[600]\ttraining's rmse: 0.140414\tvalid_1's rmse: 0.389589\n",
      "[800]\ttraining's rmse: 0.112245\tvalid_1's rmse: 0.388671\n",
      "[1000]\ttraining's rmse: 0.0919407\tvalid_1's rmse: 0.388137\n",
      "Early stopping, best iteration is:\n",
      "[919]\ttraining's rmse: 0.0993645\tvalid_1's rmse: 0.38783\n"
     ]
    },
    {
     "name": "stderr",
     "output_type": "stream",
     "text": [
      "2021-08-17 11:56:30,818 - INFO - Fold4:CV=0.38783014658735027\n",
      "2021-08-17 11:56:30,837 - INFO - [fold 4] done in 11 s\n",
      "2021-08-17 11:56:30,852 - INFO - CV=0.3750568635896904\n",
      "2021-08-17 11:56:30,855 - INFO - [lightgbm] done in 43 s\n"
     ]
    }
   ],
   "source": [
    "with timer(\"lightgbm\"):\n",
    "    kf = KFold(n_splits=N_SPLITS,random_state=SEED, shuffle=SHUFFLE)\n",
    "    y_oof = np.empty([len(train),])\n",
    "    y_test = []\n",
    "    drop_cols = []\n",
    "    features = list(train.columns)\n",
    "    features = [i for i in features if i not in drop_cols]\n",
    "    feature_importances = pd.DataFrame()\n",
    "    categorical_features = []\n",
    "    for fold, (train_idx, valid_idx) in enumerate(kf.split(train,y)):\n",
    "        print('Fold {}'.format(fold + 1))\n",
    "        with timer(f\"fold {fold}\"):\n",
    "            x_train, y_train = train.iloc[train_idx][features], y.iloc[train_idx]\n",
    "            x_val, y_val =train.iloc[valid_idx][features], y.iloc[valid_idx]\n",
    "            print(\"train:\",len(x_train))\n",
    "\n",
    "            y_pred_valid, y_pred_test, valid_loss, importances, best_iter,_ = train_lgbm(\n",
    "                        x_train, y_train, x_val, y_val,test[features],\n",
    "                        categorical_features=categorical_features,\n",
    "                        feature_name=features,\n",
    "                        fold_id=fold,\n",
    "                        lgb_params=LGBM_PARAMS,\n",
    "                        fit_params=LGBM_FIT_PARAMS,\n",
    "                        loss_func=calc_loss,\n",
    "                        calc_importances=True\n",
    "                    )\n",
    "\n",
    "            y_oof[valid_idx] = y_pred_valid\n",
    "            score = calc_loss(y[valid_idx], y_pred_valid)\n",
    "            LOGGER.info(f'Fold{fold}:CV={score}')\n",
    "            y_test.append(y_pred_test)\n",
    "            feature_importances = pd.concat([feature_importances, importances], axis=0, sort=False)\n",
    "\n",
    "    score = calc_loss(y, y_oof)\n",
    "    np.save(SAVE_OOF_PATH, y_oof)\n",
    "    LOGGER.info(f'CV={score}')"
   ]
  },
  {
   "cell_type": "code",
   "execution_count": 9,
   "id": "917a5581",
   "metadata": {},
   "outputs": [],
   "source": [
    "y_test_sub =  np.mean(y_test,axis=0)\n",
    "sub = pd.read_csv(SUB_PATH)"
   ]
  },
  {
   "cell_type": "code",
   "execution_count": 10,
   "id": "d4cce1be",
   "metadata": {},
   "outputs": [],
   "source": [
    "sub[\"Score\"] = y_test_sub\n",
    "sub.to_csv(SAVE_TEST_SUB_PATH,index=False)"
   ]
  },
  {
   "cell_type": "code",
   "execution_count": 13,
   "id": "6334b4a1",
   "metadata": {},
   "outputs": [
    {
     "data": {
      "text/html": [
       "<div>\n",
       "<style scoped>\n",
       "    .dataframe tbody tr th:only-of-type {\n",
       "        vertical-align: middle;\n",
       "    }\n",
       "\n",
       "    .dataframe tbody tr th {\n",
       "        vertical-align: top;\n",
       "    }\n",
       "\n",
       "    .dataframe thead th {\n",
       "        text-align: right;\n",
       "    }\n",
       "</style>\n",
       "<table border=\"1\" class=\"dataframe\">\n",
       "  <thead>\n",
       "    <tr style=\"text-align: right;\">\n",
       "      <th></th>\n",
       "      <th>gain</th>\n",
       "      <th>split</th>\n",
       "      <th>fold</th>\n",
       "    </tr>\n",
       "    <tr>\n",
       "      <th>feature</th>\n",
       "      <th></th>\n",
       "      <th></th>\n",
       "      <th></th>\n",
       "    </tr>\n",
       "  </thead>\n",
       "  <tbody>\n",
       "    <tr>\n",
       "      <th>Favorites</th>\n",
       "      <td>8095.513708</td>\n",
       "      <td>744.8</td>\n",
       "      <td>2.0</td>\n",
       "    </tr>\n",
       "    <tr>\n",
       "      <th>Plan to Watch</th>\n",
       "      <td>2464.216153</td>\n",
       "      <td>883.4</td>\n",
       "      <td>2.0</td>\n",
       "    </tr>\n",
       "    <tr>\n",
       "      <th>Members</th>\n",
       "      <td>2318.057492</td>\n",
       "      <td>712.2</td>\n",
       "      <td>2.0</td>\n",
       "    </tr>\n",
       "    <tr>\n",
       "      <th>Dropped</th>\n",
       "      <td>1844.423078</td>\n",
       "      <td>1610.6</td>\n",
       "      <td>2.0</td>\n",
       "    </tr>\n",
       "    <tr>\n",
       "      <th>On-Hold</th>\n",
       "      <td>991.671600</td>\n",
       "      <td>1107.4</td>\n",
       "      <td>2.0</td>\n",
       "    </tr>\n",
       "    <tr>\n",
       "      <th>Duration</th>\n",
       "      <td>933.223637</td>\n",
       "      <td>929.2</td>\n",
       "      <td>2.0</td>\n",
       "    </tr>\n",
       "    <tr>\n",
       "      <th>anime_id_rate_mean</th>\n",
       "      <td>930.781428</td>\n",
       "      <td>1200.4</td>\n",
       "      <td>2.0</td>\n",
       "    </tr>\n",
       "    <tr>\n",
       "      <th>anime_id_rate_std</th>\n",
       "      <td>920.863884</td>\n",
       "      <td>1868.8</td>\n",
       "      <td>2.0</td>\n",
       "    </tr>\n",
       "    <tr>\n",
       "      <th>Completed</th>\n",
       "      <td>758.454763</td>\n",
       "      <td>960.6</td>\n",
       "      <td>2.0</td>\n",
       "    </tr>\n",
       "    <tr>\n",
       "      <th>today_from_air</th>\n",
       "      <td>696.056409</td>\n",
       "      <td>1350.6</td>\n",
       "      <td>2.0</td>\n",
       "    </tr>\n",
       "  </tbody>\n",
       "</table>\n",
       "</div>"
      ],
      "text/plain": [
       "                           gain   split  fold\n",
       "feature                                      \n",
       "Favorites           8095.513708   744.8   2.0\n",
       "Plan to Watch       2464.216153   883.4   2.0\n",
       "Members             2318.057492   712.2   2.0\n",
       "Dropped             1844.423078  1610.6   2.0\n",
       "On-Hold              991.671600  1107.4   2.0\n",
       "Duration             933.223637   929.2   2.0\n",
       "anime_id_rate_mean   930.781428  1200.4   2.0\n",
       "anime_id_rate_std    920.863884  1868.8   2.0\n",
       "Completed            758.454763   960.6   2.0\n",
       "today_from_air       696.056409  1350.6   2.0"
      ]
     },
     "execution_count": 13,
     "metadata": {},
     "output_type": "execute_result"
    }
   ],
   "source": [
    "feature_importances.groupby(by=\"feature\").mean().sort_values(by=\"gain\",ascending=False).iloc[:10]"
   ]
  },
  {
   "cell_type": "code",
   "execution_count": null,
   "id": "7aa77a88",
   "metadata": {},
   "outputs": [],
   "source": []
  }
 ],
 "metadata": {
  "kernelspec": {
   "display_name": "Python 3 (ipykernel)",
   "language": "python",
   "name": "python3"
  },
  "language_info": {
   "codemirror_mode": {
    "name": "ipython",
    "version": 3
   },
   "file_extension": ".py",
   "mimetype": "text/x-python",
   "name": "python",
   "nbconvert_exporter": "python",
   "pygments_lexer": "ipython3",
   "version": "3.7.10"
  }
 },
 "nbformat": 4,
 "nbformat_minor": 5
}
