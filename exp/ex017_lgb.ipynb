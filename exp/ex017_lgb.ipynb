{
 "cells": [
  {
   "cell_type": "code",
   "execution_count": 1,
   "id": "9d31c0bc",
   "metadata": {},
   "outputs": [
    {
     "data": {
      "text/html": [
       "<style type='text/css'>\n",
       ".datatable table.frame { margin-bottom: 0; }\n",
       ".datatable table.frame thead { border-bottom: none; }\n",
       ".datatable table.frame tr.coltypes td {  color: #FFFFFF;  line-height: 6px;  padding: 0 0.5em;}\n",
       ".datatable .bool    { background: #DDDD99; }\n",
       ".datatable .object  { background: #565656; }\n",
       ".datatable .int     { background: #5D9E5D; }\n",
       ".datatable .float   { background: #4040CC; }\n",
       ".datatable .str     { background: #CC4040; }\n",
       ".datatable .time    { background: #40CC40; }\n",
       ".datatable .row_index {  background: var(--jp-border-color3);  border-right: 1px solid var(--jp-border-color0);  color: var(--jp-ui-font-color3);  font-size: 9px;}\n",
       ".datatable .frame tbody td { text-align: left; }\n",
       ".datatable .frame tr.coltypes .row_index {  background: var(--jp-border-color0);}\n",
       ".datatable th:nth-child(2) { padding-left: 12px; }\n",
       ".datatable .hellipsis {  color: var(--jp-cell-editor-border-color);}\n",
       ".datatable .vellipsis {  background: var(--jp-layout-color0);  color: var(--jp-cell-editor-border-color);}\n",
       ".datatable .na {  color: var(--jp-cell-editor-border-color);  font-size: 80%;}\n",
       ".datatable .sp {  opacity: 0.25;}\n",
       ".datatable .footer { font-size: 9px; }\n",
       ".datatable .frame_dimensions {  background: var(--jp-border-color3);  border-top: 1px solid var(--jp-border-color0);  color: var(--jp-ui-font-color3);  display: inline-block;  opacity: 0.6;  padding: 1px 10px 1px 5px;}\n",
       "</style>\n"
      ],
      "text/plain": [
       "<IPython.core.display.HTML object>"
      ]
     },
     "metadata": {},
     "output_type": "display_data"
    }
   ],
   "source": [
    "# ==================\n",
    "# Library\n",
    "# ==================\n",
    "import warnings\n",
    "warnings.simplefilter('ignore')\n",
    "import math\n",
    "import pandas as pd\n",
    "import numpy as np\n",
    "import lightgbm as lgb\n",
    "import time\n",
    "import datetime\n",
    "import gc\n",
    "from sklearn.preprocessing import StandardScaler\n",
    "from sklearn.model_selection import StratifiedKFold, KFold,GroupKFold\n",
    "from sklearn.metrics import mean_absolute_error\n",
    "from sklearn.linear_model import LinearRegression\n",
    "from contextlib import contextmanager\n",
    "import logging\n",
    "from tqdm import tqdm_notebook as tqdm\n",
    "from sklearn.metrics import cohen_kappa_score, mean_squared_error\n",
    "from sklearn.metrics import log_loss\n",
    "import sys\n",
    "import time\n",
    "import feather\n",
    "import matplotlib.pyplot as plt\n",
    "from sklearn.metrics import f1_score\n",
    "from sklearn.preprocessing import LabelEncoder\n",
    "import pickle\n",
    "%matplotlib inline\n",
    "from sklearn.metrics import average_precision_score\n",
    "\n",
    "sys.path.append(\"../src/\")\n",
    "from logger import setup_logger, LOGGER\n",
    "from trainer import train_lgbm\n",
    "from util_tool import reduce_mem_usage\n",
    "pd.set_option('display.max_columns', 300)"
   ]
  },
  {
   "cell_type": "code",
   "execution_count": 2,
   "id": "635d1416",
   "metadata": {},
   "outputs": [],
   "source": [
    "# ==================\n",
    "# Constant\n",
    "# ==================\n",
    "ex = \"017\"\n",
    "TRAIN_PATH = \"../input/train.csv\"\n",
    "TEST_PATH = \"../input/test.csv\"\n",
    "USER_PATH = \"../input/user_x_anime.csv\"\n",
    "SUB_PATH = \"../input/sample_submission.csv\"\n",
    "SAVE_OOF_PATH = f\"../output/exp/ex{ex}_oof.npy\"\n",
    "SAVE_TEST_SUB_PATH = f\"../output/exp/ex{ex}_test_sub.csv\"\n",
    "LOGGER_PATH = f\"../output/exp/ex_{ex}.txt\""
   ]
  },
  {
   "cell_type": "code",
   "execution_count": 3,
   "id": "d2e40402",
   "metadata": {},
   "outputs": [],
   "source": [
    "\n",
    "# ===============\n",
    "# Settings\n",
    "# ===============\n",
    "\n",
    "SEED = 0\n",
    "N_SPLITS = 5\n",
    "SHUFFLE = True\n",
    "LGBM_PARAMS = {'num_leaves': 32,\n",
    "               'min_data_in_leaf': 64,\n",
    "               'objective': 'regression',\n",
    "               'max_depth': -1,\n",
    "               'learning_rate': 0.05,\n",
    "               \"boosting\": \"gbdt\",\n",
    "               \"bagging_freq\": 1,\n",
    "               \"bagging_fraction\": 0.8,\n",
    "               \"bagging_seed\": SEED,\n",
    "               \"verbosity\": -1,\n",
    "              'reg_alpha': 0.1,\n",
    "              'reg_lambda': 0.3,\n",
    "              'colsample_bytree': 0.7,\n",
    "              'metric':\"rmse\",\n",
    "              'num_threads':6,\n",
    "         }\n",
    "\n",
    "LGBM_FIT_PARAMS = {\n",
    "    'num_boost_round': 5000,\n",
    "    'early_stopping_rounds': 200,\n",
    "    'verbose_eval': 1000,\n",
    "}\n",
    "\n",
    "load_feature = [\"../output/fe/fe001.feather\",\n",
    "                \"../output/fe/fe002.feather\",\n",
    "                \"../output/fe/fe003.feather\",\n",
    "                \"../output/fe/fe004.feather\",\n",
    "                \"../output/fe/fe005.feather\",\n",
    "                \"../output/fe/fe006.feather\",\n",
    "                \"../output/fe/fe007.feather\",\n",
    "                \"../output/fe/fe009.feather\",\n",
    "                \"../output/fe/fe011.feather\",\n",
    "                \"../output/fe/fe012.feather\",\n",
    "                \"../output/fe/fe018.feather\",]"
   ]
  },
  {
   "cell_type": "code",
   "execution_count": 4,
   "id": "4947d85a",
   "metadata": {},
   "outputs": [],
   "source": [
    "# ====================\n",
    "# Function\n",
    "# ====================\n",
    "\n",
    "def calc_loss(y_true, y_pred):\n",
    "    return  np.sqrt(mean_squared_error(y_true, y_pred))\n",
    "\n",
    "\n",
    "@contextmanager\n",
    "def timer(name):\n",
    "    t0 = time.time()\n",
    "    yield \n",
    "    LOGGER.info(f'[{name}] done in {time.time() - t0:.0f} s')"
   ]
  },
  {
   "cell_type": "code",
   "execution_count": 5,
   "id": "1fab8245",
   "metadata": {},
   "outputs": [
    {
     "name": "stderr",
     "output_type": "stream",
     "text": [
      "2021-08-20 13:01:09,052 - INFO - logger set up\n"
     ]
    },
    {
     "data": {
      "text/plain": [
       "<RootLogger root (DEBUG)>"
      ]
     },
     "execution_count": 5,
     "metadata": {},
     "output_type": "execute_result"
    }
   ],
   "source": [
    "LOGGER = logging.getLogger()\n",
    "FORMATTER = logging.Formatter(\"%(asctime)s - %(levelname)s - %(message)s\")\n",
    "setup_logger(out_file=LOGGER_PATH)"
   ]
  },
  {
   "cell_type": "code",
   "execution_count": 6,
   "id": "84354f9e",
   "metadata": {},
   "outputs": [],
   "source": [
    "# ====================\n",
    "# Main\n",
    "# ====================\n",
    "train_raw = pd.read_csv(TRAIN_PATH)\n",
    "y = train_raw[\"Score\"]\n",
    "df = None\n",
    "for i in load_feature:\n",
    "    if df is not None:\n",
    "        _df = pd.read_feather(i)\n",
    "        df  = pd.concat([df, _df], axis=1)\n",
    "    else:\n",
    "        df = pd.read_feather(i)\n",
    "train = df.iloc[:len(train_raw)]\n",
    "test = df.iloc[len(train_raw):].reset_index(drop=True)"
   ]
  },
  {
   "cell_type": "code",
   "execution_count": 7,
   "id": "a36d482a",
   "metadata": {},
   "outputs": [
    {
     "name": "stdout",
     "output_type": "stream",
     "text": [
      "Fold 1\n",
      "train: 4000\n",
      "Training until validation scores don't improve for 200 rounds\n",
      "[1000]\ttraining's rmse: 0.0483343\tvalid_1's rmse: 0.328457\n",
      "Early stopping, best iteration is:\n",
      "[1318]\ttraining's rmse: 0.0352392\tvalid_1's rmse: 0.328213\n"
     ]
    },
    {
     "name": "stderr",
     "output_type": "stream",
     "text": [
      "2021-08-20 13:01:14,887 - INFO - Fold0:CV=0.32821296993946286\n",
      "2021-08-20 13:01:14,890 - INFO - [fold 0] done in 6 s\n"
     ]
    },
    {
     "name": "stdout",
     "output_type": "stream",
     "text": [
      "Fold 2\n",
      "train: 4000\n",
      "Training until validation scores don't improve for 200 rounds\n",
      "[1000]\ttraining's rmse: 0.0446707\tvalid_1's rmse: 0.315427\n",
      "[2000]\ttraining's rmse: 0.0197438\tvalid_1's rmse: 0.313811\n",
      "[3000]\ttraining's rmse: 0.0128821\tvalid_1's rmse: 0.313288\n",
      "[4000]\ttraining's rmse: 0.00924026\tvalid_1's rmse: 0.313029\n",
      "[5000]\ttraining's rmse: 0.00676906\tvalid_1's rmse: 0.31283\n",
      "Did not meet early stopping. Best iteration is:\n",
      "[5000]\ttraining's rmse: 0.00676906\tvalid_1's rmse: 0.31283\n"
     ]
    },
    {
     "name": "stderr",
     "output_type": "stream",
     "text": [
      "2021-08-20 13:01:29,013 - INFO - Fold1:CV=0.3128304638741761\n",
      "2021-08-20 13:01:29,016 - INFO - [fold 1] done in 14 s\n"
     ]
    },
    {
     "name": "stdout",
     "output_type": "stream",
     "text": [
      "Fold 3\n",
      "train: 4000\n",
      "Training until validation scores don't improve for 200 rounds\n",
      "[1000]\ttraining's rmse: 0.0500323\tvalid_1's rmse: 0.356364\n",
      "Early stopping, best iteration is:\n",
      "[847]\ttraining's rmse: 0.0600367\tvalid_1's rmse: 0.356058\n"
     ]
    },
    {
     "name": "stderr",
     "output_type": "stream",
     "text": [
      "2021-08-20 13:01:32,862 - INFO - Fold2:CV=0.3560577410188933\n",
      "2021-08-20 13:01:32,865 - INFO - [fold 2] done in 4 s\n"
     ]
    },
    {
     "name": "stdout",
     "output_type": "stream",
     "text": [
      "Fold 4\n",
      "train: 4000\n",
      "Training until validation scores don't improve for 200 rounds\n"
     ]
    },
    {
     "name": "stderr",
     "output_type": "stream",
     "text": [
      "2021-08-20 13:01:35,569 - INFO - Fold3:CV=0.3335892976864151\n",
      "2021-08-20 13:01:35,572 - INFO - [fold 3] done in 3 s\n"
     ]
    },
    {
     "name": "stdout",
     "output_type": "stream",
     "text": [
      "Early stopping, best iteration is:\n",
      "[552]\ttraining's rmse: 0.0932277\tvalid_1's rmse: 0.333589\n",
      "Fold 5\n",
      "train: 4000\n",
      "Training until validation scores don't improve for 200 rounds\n",
      "[1000]\ttraining's rmse: 0.045784\tvalid_1's rmse: 0.342588\n",
      "Early stopping, best iteration is:\n",
      "[1204]\ttraining's rmse: 0.0366909\tvalid_1's rmse: 0.342161\n"
     ]
    },
    {
     "name": "stderr",
     "output_type": "stream",
     "text": [
      "2021-08-20 13:01:40,933 - INFO - Fold4:CV=0.34216079535585936\n",
      "2021-08-20 13:01:40,935 - INFO - [fold 4] done in 5 s\n",
      "2021-08-20 13:01:40,942 - INFO - CV=0.3348789623470433\n",
      "2021-08-20 13:01:40,944 - INFO - [lightgbm] done in 32 s\n"
     ]
    }
   ],
   "source": [
    "with timer(\"lightgbm\"):\n",
    "    kf = KFold(n_splits=N_SPLITS,random_state=SEED, shuffle=SHUFFLE)\n",
    "    y_oof = np.empty([len(train),])\n",
    "    y_test = []\n",
    "    drop_cols = []\n",
    "    features = list(train.columns)\n",
    "    features = [i for i in features if i not in drop_cols]\n",
    "    feature_importances = pd.DataFrame()\n",
    "    categorical_features = []\n",
    "    for fold, (train_idx, valid_idx) in enumerate(kf.split(train,y)):\n",
    "        print('Fold {}'.format(fold + 1))\n",
    "        with timer(f\"fold {fold}\"):\n",
    "            x_train, y_train = train.iloc[train_idx][features], y.iloc[train_idx]\n",
    "            x_val, y_val =train.iloc[valid_idx][features], y.iloc[valid_idx]\n",
    "            print(\"train:\",len(x_train))\n",
    "\n",
    "            y_pred_valid, y_pred_test, valid_loss, importances, best_iter,_ = train_lgbm(\n",
    "                        x_train, y_train, x_val, y_val,test[features],\n",
    "                        categorical_features=categorical_features,\n",
    "                        feature_name=features,\n",
    "                        fold_id=fold,\n",
    "                        lgb_params=LGBM_PARAMS,\n",
    "                        fit_params=LGBM_FIT_PARAMS,\n",
    "                        loss_func=calc_loss,\n",
    "                        calc_importances=True\n",
    "                    )\n",
    "\n",
    "            y_oof[valid_idx] = y_pred_valid\n",
    "            score = calc_loss(y[valid_idx], y_pred_valid)\n",
    "            LOGGER.info(f'Fold{fold}:CV={score}')\n",
    "            y_test.append(y_pred_test)\n",
    "            feature_importances = pd.concat([feature_importances, importances], axis=0, sort=False)\n",
    "\n",
    "    score = calc_loss(y, y_oof)\n",
    "    np.save(SAVE_OOF_PATH, y_oof)\n",
    "    LOGGER.info(f'CV={score}')"
   ]
  },
  {
   "cell_type": "code",
   "execution_count": 8,
   "id": "5dd90b19",
   "metadata": {},
   "outputs": [],
   "source": [
    "y_test_sub =  np.mean(y_test,axis=0)\n",
    "sub = pd.read_csv(SUB_PATH)"
   ]
  },
  {
   "cell_type": "code",
   "execution_count": 9,
   "id": "f977cdb2",
   "metadata": {},
   "outputs": [],
   "source": [
    "sub[\"Score\"] = y_test_sub\n",
    "sub.to_csv(SAVE_TEST_SUB_PATH,index=False)"
   ]
  },
  {
   "cell_type": "code",
   "execution_count": 10,
   "id": "8de44330",
   "metadata": {},
   "outputs": [
    {
     "data": {
      "text/html": [
       "<div>\n",
       "<style scoped>\n",
       "    .dataframe tbody tr th:only-of-type {\n",
       "        vertical-align: middle;\n",
       "    }\n",
       "\n",
       "    .dataframe tbody tr th {\n",
       "        vertical-align: top;\n",
       "    }\n",
       "\n",
       "    .dataframe thead th {\n",
       "        text-align: right;\n",
       "    }\n",
       "</style>\n",
       "<table border=\"1\" class=\"dataframe\">\n",
       "  <thead>\n",
       "    <tr style=\"text-align: right;\">\n",
       "      <th></th>\n",
       "      <th>gain</th>\n",
       "      <th>split</th>\n",
       "      <th>fold</th>\n",
       "    </tr>\n",
       "    <tr>\n",
       "      <th>feature</th>\n",
       "      <th></th>\n",
       "      <th></th>\n",
       "      <th></th>\n",
       "    </tr>\n",
       "  </thead>\n",
       "  <tbody>\n",
       "    <tr>\n",
       "      <th>Favorites</th>\n",
       "      <td>4677.906816</td>\n",
       "      <td>145.6</td>\n",
       "      <td>2.0</td>\n",
       "    </tr>\n",
       "    <tr>\n",
       "      <th>Favorites_Dropped_rate</th>\n",
       "      <td>2650.911130</td>\n",
       "      <td>432.6</td>\n",
       "      <td>2.0</td>\n",
       "    </tr>\n",
       "    <tr>\n",
       "      <th>Dropped_Plan to Watch_diff</th>\n",
       "      <td>2405.637185</td>\n",
       "      <td>267.2</td>\n",
       "      <td>2.0</td>\n",
       "    </tr>\n",
       "    <tr>\n",
       "      <th>On-Hold_Dropped_rate</th>\n",
       "      <td>2073.203338</td>\n",
       "      <td>814.2</td>\n",
       "      <td>2.0</td>\n",
       "    </tr>\n",
       "    <tr>\n",
       "      <th>Members_Dropped_diff</th>\n",
       "      <td>1058.202454</td>\n",
       "      <td>76.6</td>\n",
       "      <td>2.0</td>\n",
       "    </tr>\n",
       "    <tr>\n",
       "      <th>On-Hold_Dropped_diff</th>\n",
       "      <td>963.364881</td>\n",
       "      <td>515.2</td>\n",
       "      <td>2.0</td>\n",
       "    </tr>\n",
       "    <tr>\n",
       "      <th>anime_id_emb_16</th>\n",
       "      <td>804.743352</td>\n",
       "      <td>1242.6</td>\n",
       "      <td>2.0</td>\n",
       "    </tr>\n",
       "    <tr>\n",
       "      <th>anime_id_emb_18</th>\n",
       "      <td>430.764735</td>\n",
       "      <td>685.2</td>\n",
       "      <td>2.0</td>\n",
       "    </tr>\n",
       "    <tr>\n",
       "      <th>anime_id_emb_13</th>\n",
       "      <td>355.307337</td>\n",
       "      <td>686.8</td>\n",
       "      <td>2.0</td>\n",
       "    </tr>\n",
       "    <tr>\n",
       "      <th>Members</th>\n",
       "      <td>346.235506</td>\n",
       "      <td>69.0</td>\n",
       "      <td>2.0</td>\n",
       "    </tr>\n",
       "    <tr>\n",
       "      <th>Members_Watching_diff</th>\n",
       "      <td>332.982498</td>\n",
       "      <td>58.6</td>\n",
       "      <td>2.0</td>\n",
       "    </tr>\n",
       "    <tr>\n",
       "      <th>Studios_1</th>\n",
       "      <td>331.350611</td>\n",
       "      <td>181.0</td>\n",
       "      <td>2.0</td>\n",
       "    </tr>\n",
       "    <tr>\n",
       "      <th>Episodes</th>\n",
       "      <td>313.192136</td>\n",
       "      <td>291.6</td>\n",
       "      <td>2.0</td>\n",
       "    </tr>\n",
       "    <tr>\n",
       "      <th>anime_id_rate_std</th>\n",
       "      <td>270.547102</td>\n",
       "      <td>1715.2</td>\n",
       "      <td>2.0</td>\n",
       "    </tr>\n",
       "    <tr>\n",
       "      <th>anime_id_emb_20</th>\n",
       "      <td>265.294499</td>\n",
       "      <td>603.0</td>\n",
       "      <td>2.0</td>\n",
       "    </tr>\n",
       "    <tr>\n",
       "      <th>Duration</th>\n",
       "      <td>239.001540</td>\n",
       "      <td>399.2</td>\n",
       "      <td>2.0</td>\n",
       "    </tr>\n",
       "    <tr>\n",
       "      <th>Studios_0</th>\n",
       "      <td>238.397081</td>\n",
       "      <td>245.0</td>\n",
       "      <td>2.0</td>\n",
       "    </tr>\n",
       "    <tr>\n",
       "      <th>anime_id_emb_9</th>\n",
       "      <td>236.378473</td>\n",
       "      <td>628.2</td>\n",
       "      <td>2.0</td>\n",
       "    </tr>\n",
       "    <tr>\n",
       "      <th>Members_Completed_diff</th>\n",
       "      <td>216.469327</td>\n",
       "      <td>153.4</td>\n",
       "      <td>2.0</td>\n",
       "    </tr>\n",
       "    <tr>\n",
       "      <th>Gerres_6</th>\n",
       "      <td>207.829620</td>\n",
       "      <td>64.0</td>\n",
       "      <td>2.0</td>\n",
       "    </tr>\n",
       "  </tbody>\n",
       "</table>\n",
       "</div>"
      ],
      "text/plain": [
       "                                   gain   split  fold\n",
       "feature                                              \n",
       "Favorites                   4677.906816   145.6   2.0\n",
       "Favorites_Dropped_rate      2650.911130   432.6   2.0\n",
       "Dropped_Plan to Watch_diff  2405.637185   267.2   2.0\n",
       "On-Hold_Dropped_rate        2073.203338   814.2   2.0\n",
       "Members_Dropped_diff        1058.202454    76.6   2.0\n",
       "On-Hold_Dropped_diff         963.364881   515.2   2.0\n",
       "anime_id_emb_16              804.743352  1242.6   2.0\n",
       "anime_id_emb_18              430.764735   685.2   2.0\n",
       "anime_id_emb_13              355.307337   686.8   2.0\n",
       "Members                      346.235506    69.0   2.0\n",
       "Members_Watching_diff        332.982498    58.6   2.0\n",
       "Studios_1                    331.350611   181.0   2.0\n",
       "Episodes                     313.192136   291.6   2.0\n",
       "anime_id_rate_std            270.547102  1715.2   2.0\n",
       "anime_id_emb_20              265.294499   603.0   2.0\n",
       "Duration                     239.001540   399.2   2.0\n",
       "Studios_0                    238.397081   245.0   2.0\n",
       "anime_id_emb_9               236.378473   628.2   2.0\n",
       "Members_Completed_diff       216.469327   153.4   2.0\n",
       "Gerres_6                     207.829620    64.0   2.0"
      ]
     },
     "execution_count": 10,
     "metadata": {},
     "output_type": "execute_result"
    }
   ],
   "source": [
    "feature_importances.groupby(by=\"feature\").mean().sort_values(by=\"gain\",ascending=False).iloc[:20]"
   ]
  },
  {
   "cell_type": "code",
   "execution_count": null,
   "id": "74a7df1c",
   "metadata": {},
   "outputs": [],
   "source": []
  },
  {
   "cell_type": "code",
   "execution_count": null,
   "id": "593e4372",
   "metadata": {},
   "outputs": [],
   "source": []
  }
 ],
 "metadata": {
  "kernelspec": {
   "display_name": "Python 3 (ipykernel)",
   "language": "python",
   "name": "python3"
  },
  "language_info": {
   "codemirror_mode": {
    "name": "ipython",
    "version": 3
   },
   "file_extension": ".py",
   "mimetype": "text/x-python",
   "name": "python",
   "nbconvert_exporter": "python",
   "pygments_lexer": "ipython3",
   "version": "3.7.10"
  }
 },
 "nbformat": 4,
 "nbformat_minor": 5
}
