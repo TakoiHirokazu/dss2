{
 "cells": [
  {
   "cell_type": "code",
   "execution_count": 1,
   "id": "c4368261",
   "metadata": {},
   "outputs": [
    {
     "data": {
      "text/html": [
       "<style type='text/css'>\n",
       ".datatable table.frame { margin-bottom: 0; }\n",
       ".datatable table.frame thead { border-bottom: none; }\n",
       ".datatable table.frame tr.coltypes td {  color: #FFFFFF;  line-height: 6px;  padding: 0 0.5em;}\n",
       ".datatable .bool    { background: #DDDD99; }\n",
       ".datatable .object  { background: #565656; }\n",
       ".datatable .int     { background: #5D9E5D; }\n",
       ".datatable .float   { background: #4040CC; }\n",
       ".datatable .str     { background: #CC4040; }\n",
       ".datatable .time    { background: #40CC40; }\n",
       ".datatable .row_index {  background: var(--jp-border-color3);  border-right: 1px solid var(--jp-border-color0);  color: var(--jp-ui-font-color3);  font-size: 9px;}\n",
       ".datatable .frame tbody td { text-align: left; }\n",
       ".datatable .frame tr.coltypes .row_index {  background: var(--jp-border-color0);}\n",
       ".datatable th:nth-child(2) { padding-left: 12px; }\n",
       ".datatable .hellipsis {  color: var(--jp-cell-editor-border-color);}\n",
       ".datatable .vellipsis {  background: var(--jp-layout-color0);  color: var(--jp-cell-editor-border-color);}\n",
       ".datatable .na {  color: var(--jp-cell-editor-border-color);  font-size: 80%;}\n",
       ".datatable .sp {  opacity: 0.25;}\n",
       ".datatable .footer { font-size: 9px; }\n",
       ".datatable .frame_dimensions {  background: var(--jp-border-color3);  border-top: 1px solid var(--jp-border-color0);  color: var(--jp-ui-font-color3);  display: inline-block;  opacity: 0.6;  padding: 1px 10px 1px 5px;}\n",
       "</style>\n"
      ],
      "text/plain": [
       "<IPython.core.display.HTML object>"
      ]
     },
     "metadata": {},
     "output_type": "display_data"
    }
   ],
   "source": [
    "# ==================\n",
    "# Library\n",
    "# ==================\n",
    "import warnings\n",
    "warnings.simplefilter('ignore')\n",
    "import math\n",
    "import pandas as pd\n",
    "import numpy as np\n",
    "import lightgbm as lgb\n",
    "import time\n",
    "import datetime\n",
    "import gc\n",
    "from sklearn.preprocessing import StandardScaler\n",
    "from sklearn.model_selection import StratifiedKFold, KFold,GroupKFold\n",
    "from sklearn.metrics import mean_absolute_error\n",
    "from sklearn.linear_model import LinearRegression\n",
    "from contextlib import contextmanager\n",
    "import logging\n",
    "from tqdm import tqdm_notebook as tqdm\n",
    "from sklearn.metrics import cohen_kappa_score, mean_squared_error\n",
    "from sklearn.metrics import log_loss\n",
    "import sys\n",
    "import time\n",
    "import feather\n",
    "import matplotlib.pyplot as plt\n",
    "from sklearn.metrics import f1_score\n",
    "from sklearn.preprocessing import LabelEncoder\n",
    "import pickle\n",
    "%matplotlib inline\n",
    "from sklearn.metrics import average_precision_score\n",
    "\n",
    "sys.path.append(\"../src/\")\n",
    "from logger import setup_logger, LOGGER\n",
    "from trainer import train_lgbm\n",
    "from util_tool import reduce_mem_usage\n",
    "pd.set_option('display.max_columns', 300)"
   ]
  },
  {
   "cell_type": "code",
   "execution_count": 2,
   "id": "fae578c2",
   "metadata": {},
   "outputs": [],
   "source": [
    "# ==================\n",
    "# Constant\n",
    "# ==================\n",
    "ex = \"008\"\n",
    "TRAIN_PATH = \"../input/train.csv\"\n",
    "TEST_PATH = \"../input/test.csv\"\n",
    "USER_PATH = \"../input/user_x_anime.csv\"\n",
    "SUB_PATH = \"../input/sample_submission.csv\"\n",
    "SAVE_OOF_PATH = f\"../output/exp/ex{ex}_oof.npy\"\n",
    "SAVE_TEST_SUB_PATH = f\"../output/exp/ex{ex}_test_sub.csv\"\n",
    "LOGGER_PATH = f\"../output/exp/ex_{ex}.txt\""
   ]
  },
  {
   "cell_type": "code",
   "execution_count": 3,
   "id": "aca80039",
   "metadata": {},
   "outputs": [],
   "source": [
    "\n",
    "# ===============\n",
    "# Settings\n",
    "# ===============\n",
    "\n",
    "SEED = 0\n",
    "N_SPLITS = 5\n",
    "SHUFFLE = True\n",
    "LGBM_PARAMS = {'num_leaves': 32,\n",
    "               'min_data_in_leaf': 64,\n",
    "               'objective': 'regression',\n",
    "               'max_depth': -1,\n",
    "               'learning_rate': 0.05,\n",
    "               \"boosting\": \"gbdt\",\n",
    "               \"bagging_freq\": 1,\n",
    "               \"bagging_fraction\": 0.8,\n",
    "               \"bagging_seed\": SEED,\n",
    "               \"verbosity\": -1,\n",
    "              'reg_alpha': 0.1,\n",
    "              'reg_lambda': 0.3,\n",
    "              'colsample_bytree': 0.7,\n",
    "              'metric':\"rmse\",\n",
    "              'num_threads':32,\n",
    "         }\n",
    "\n",
    "LGBM_FIT_PARAMS = {\n",
    "    'num_boost_round': 10000,\n",
    "    'early_stopping_rounds': 200,\n",
    "    'verbose_eval': 200,\n",
    "}\n",
    "\n",
    "load_feature = [\"../output/fe/fe001.feather\",\n",
    "                \"../output/fe/fe002.feather\",\n",
    "                \"../output/fe/fe003.feather\",\n",
    "                \"../output/fe/fe004.feather\",\n",
    "                \"../output/fe/fe005.feather\",\n",
    "                \"../output/fe/fe006.feather\",\n",
    "                \"../output/fe/fe007.feather\",\n",
    "                \"../output/fe/fe008.feather\",]"
   ]
  },
  {
   "cell_type": "code",
   "execution_count": 4,
   "id": "8c9853b1",
   "metadata": {},
   "outputs": [],
   "source": [
    "# ====================\n",
    "# Function\n",
    "# ====================\n",
    "\n",
    "def calc_loss(y_true, y_pred):\n",
    "    return  np.sqrt(mean_squared_error(y_true, y_pred))\n",
    "\n",
    "\n",
    "@contextmanager\n",
    "def timer(name):\n",
    "    t0 = time.time()\n",
    "    yield \n",
    "    LOGGER.info(f'[{name}] done in {time.time() - t0:.0f} s')"
   ]
  },
  {
   "cell_type": "code",
   "execution_count": 5,
   "id": "bb7ad433",
   "metadata": {},
   "outputs": [
    {
     "name": "stderr",
     "output_type": "stream",
     "text": [
      "2021-08-17 11:49:01,644 - INFO - logger set up\n"
     ]
    },
    {
     "data": {
      "text/plain": [
       "<RootLogger root (DEBUG)>"
      ]
     },
     "execution_count": 5,
     "metadata": {},
     "output_type": "execute_result"
    }
   ],
   "source": [
    "LOGGER = logging.getLogger()\n",
    "FORMATTER = logging.Formatter(\"%(asctime)s - %(levelname)s - %(message)s\")\n",
    "setup_logger(out_file=LOGGER_PATH)"
   ]
  },
  {
   "cell_type": "code",
   "execution_count": 6,
   "id": "3fcfbcf3",
   "metadata": {},
   "outputs": [],
   "source": [
    "# ====================\n",
    "# Main\n",
    "# ====================\n",
    "train_raw = pd.read_csv(TRAIN_PATH)\n",
    "y = train_raw[\"Score\"]\n",
    "df = None\n",
    "for i in load_feature:\n",
    "    if df is not None:\n",
    "        _df = pd.read_feather(i)\n",
    "        df  = pd.concat([df, _df], axis=1)\n",
    "    else:\n",
    "        df = pd.read_feather(i)\n",
    "train = df.iloc[:len(train_raw)]\n",
    "test = df.iloc[len(train_raw):].reset_index(drop=True)"
   ]
  },
  {
   "cell_type": "code",
   "execution_count": 7,
   "id": "350ea48e",
   "metadata": {},
   "outputs": [
    {
     "data": {
      "text/plain": [
       "0       8.78\n",
       "1       8.06\n",
       "2       7.90\n",
       "3       6.38\n",
       "4       8.17\n",
       "        ... \n",
       "4995    7.23\n",
       "4996    6.54\n",
       "4997    6.51\n",
       "4998    5.92\n",
       "4999    6.83\n",
       "Name: Score, Length: 5000, dtype: float64"
      ]
     },
     "execution_count": 7,
     "metadata": {},
     "output_type": "execute_result"
    }
   ],
   "source": [
    "y"
   ]
  },
  {
   "cell_type": "code",
   "execution_count": 8,
   "id": "bf03e980",
   "metadata": {},
   "outputs": [
    {
     "name": "stdout",
     "output_type": "stream",
     "text": [
      "Fold 1\n",
      "train: 4000\n",
      "Training until validation scores don't improve for 200 rounds\n",
      "[200]\ttraining's rmse: 0.269954\tvalid_1's rmse: 0.386592\n",
      "[400]\ttraining's rmse: 0.194434\tvalid_1's rmse: 0.376612\n",
      "[600]\ttraining's rmse: 0.149962\tvalid_1's rmse: 0.374589\n",
      "[800]\ttraining's rmse: 0.119213\tvalid_1's rmse: 0.374224\n",
      "[1000]\ttraining's rmse: 0.0965817\tvalid_1's rmse: 0.372929\n",
      "Early stopping, best iteration is:\n",
      "[953]\ttraining's rmse: 0.101221\tvalid_1's rmse: 0.372811\n"
     ]
    },
    {
     "name": "stderr",
     "output_type": "stream",
     "text": [
      "2021-08-17 11:49:11,461 - INFO - Fold0:CV=0.3728111756273966\n",
      "2021-08-17 11:49:11,480 - INFO - [fold 0] done in 9 s\n"
     ]
    },
    {
     "name": "stdout",
     "output_type": "stream",
     "text": [
      "Fold 2\n",
      "train: 4000\n",
      "Training until validation scores don't improve for 200 rounds\n",
      "[200]\ttraining's rmse: 0.267167\tvalid_1's rmse: 0.391169\n",
      "[400]\ttraining's rmse: 0.192254\tvalid_1's rmse: 0.383563\n",
      "[600]\ttraining's rmse: 0.147881\tvalid_1's rmse: 0.382859\n",
      "Early stopping, best iteration is:\n",
      "[509]\ttraining's rmse: 0.165714\tvalid_1's rmse: 0.382324\n"
     ]
    },
    {
     "name": "stderr",
     "output_type": "stream",
     "text": [
      "2021-08-17 11:49:17,620 - INFO - Fold1:CV=0.38232350106437146\n",
      "2021-08-17 11:49:17,639 - INFO - [fold 1] done in 6 s\n"
     ]
    },
    {
     "name": "stdout",
     "output_type": "stream",
     "text": [
      "Fold 3\n",
      "train: 4000\n",
      "Training until validation scores don't improve for 200 rounds\n",
      "[200]\ttraining's rmse: 0.269489\tvalid_1's rmse: 0.399177\n",
      "[400]\ttraining's rmse: 0.195228\tvalid_1's rmse: 0.388238\n",
      "[600]\ttraining's rmse: 0.150977\tvalid_1's rmse: 0.386018\n",
      "[800]\ttraining's rmse: 0.120768\tvalid_1's rmse: 0.38548\n",
      "[1000]\ttraining's rmse: 0.0981965\tvalid_1's rmse: 0.385803\n",
      "Early stopping, best iteration is:\n",
      "[880]\ttraining's rmse: 0.110877\tvalid_1's rmse: 0.385335\n"
     ]
    },
    {
     "name": "stderr",
     "output_type": "stream",
     "text": [
      "2021-08-17 11:49:26,991 - INFO - Fold2:CV=0.38533453294773345\n",
      "2021-08-17 11:49:27,000 - INFO - [fold 2] done in 9 s\n"
     ]
    },
    {
     "name": "stdout",
     "output_type": "stream",
     "text": [
      "Fold 4\n",
      "train: 4000\n",
      "Training until validation scores don't improve for 200 rounds\n",
      "[200]\ttraining's rmse: 0.272263\tvalid_1's rmse: 0.385668\n",
      "[400]\ttraining's rmse: 0.197527\tvalid_1's rmse: 0.377213\n",
      "[600]\ttraining's rmse: 0.152865\tvalid_1's rmse: 0.376065\n",
      "[800]\ttraining's rmse: 0.122315\tvalid_1's rmse: 0.375685\n",
      "Early stopping, best iteration is:\n",
      "[776]\ttraining's rmse: 0.125422\tvalid_1's rmse: 0.37541\n"
     ]
    },
    {
     "name": "stderr",
     "output_type": "stream",
     "text": [
      "2021-08-17 11:49:36,128 - INFO - Fold3:CV=0.3754103082685664\n",
      "2021-08-17 11:49:36,136 - INFO - [fold 3] done in 9 s\n"
     ]
    },
    {
     "name": "stdout",
     "output_type": "stream",
     "text": [
      "Fold 5\n",
      "train: 4000\n",
      "Training until validation scores don't improve for 200 rounds\n",
      "[200]\ttraining's rmse: 0.264657\tvalid_1's rmse: 0.415364\n",
      "[400]\ttraining's rmse: 0.189875\tvalid_1's rmse: 0.402082\n",
      "[600]\ttraining's rmse: 0.145959\tvalid_1's rmse: 0.399689\n",
      "[800]\ttraining's rmse: 0.116357\tvalid_1's rmse: 0.398655\n",
      "[1000]\ttraining's rmse: 0.0946108\tvalid_1's rmse: 0.398368\n",
      "[1200]\ttraining's rmse: 0.0785437\tvalid_1's rmse: 0.398607\n",
      "Early stopping, best iteration is:\n",
      "[1015]\ttraining's rmse: 0.0932075\tvalid_1's rmse: 0.398127\n"
     ]
    },
    {
     "name": "stderr",
     "output_type": "stream",
     "text": [
      "2021-08-17 11:49:46,690 - INFO - Fold4:CV=0.3981273181697223\n",
      "2021-08-17 11:49:46,705 - INFO - [fold 4] done in 11 s\n",
      "2021-08-17 11:49:46,719 - INFO - CV=0.38290479115523307\n",
      "2021-08-17 11:49:46,722 - INFO - [lightgbm] done in 45 s\n"
     ]
    }
   ],
   "source": [
    "with timer(\"lightgbm\"):\n",
    "    kf = KFold(n_splits=N_SPLITS,random_state=SEED, shuffle=SHUFFLE)\n",
    "    y_oof = np.empty([len(train),])\n",
    "    y_test = []\n",
    "    drop_cols = []\n",
    "    features = list(train.columns)\n",
    "    features = [i for i in features if i not in drop_cols]\n",
    "    feature_importances = pd.DataFrame()\n",
    "    categorical_features = []\n",
    "    for fold, (train_idx, valid_idx) in enumerate(kf.split(train,y)):\n",
    "        print('Fold {}'.format(fold + 1))\n",
    "        with timer(f\"fold {fold}\"):\n",
    "            x_train, y_train = train.iloc[train_idx][features], y.iloc[train_idx]\n",
    "            x_val, y_val =train.iloc[valid_idx][features], y.iloc[valid_idx]\n",
    "            print(\"train:\",len(x_train))\n",
    "\n",
    "            y_pred_valid, y_pred_test, valid_loss, importances, best_iter,_ = train_lgbm(\n",
    "                        x_train, y_train, x_val, y_val,test[features],\n",
    "                        categorical_features=categorical_features,\n",
    "                        feature_name=features,\n",
    "                        fold_id=fold,\n",
    "                        lgb_params=LGBM_PARAMS,\n",
    "                        fit_params=LGBM_FIT_PARAMS,\n",
    "                        loss_func=calc_loss,\n",
    "                        calc_importances=True\n",
    "                    )\n",
    "\n",
    "            y_oof[valid_idx] = y_pred_valid\n",
    "            score = calc_loss(y[valid_idx], y_pred_valid)\n",
    "            LOGGER.info(f'Fold{fold}:CV={score}')\n",
    "            y_test.append(y_pred_test)\n",
    "            feature_importances = pd.concat([feature_importances, importances], axis=0, sort=False)\n",
    "\n",
    "    score = calc_loss(y, y_oof)\n",
    "    np.save(SAVE_OOF_PATH, y_oof)\n",
    "    LOGGER.info(f'CV={score}')"
   ]
  },
  {
   "cell_type": "code",
   "execution_count": 9,
   "id": "335de0fc",
   "metadata": {},
   "outputs": [],
   "source": [
    "y_test_sub =  np.mean(y_test,axis=0)\n",
    "sub = pd.read_csv(SUB_PATH)"
   ]
  },
  {
   "cell_type": "code",
   "execution_count": 10,
   "id": "579864b5",
   "metadata": {},
   "outputs": [],
   "source": [
    "sub[\"Score\"] = y_test_sub\n",
    "sub.to_csv(SAVE_TEST_SUB_PATH,index=False)"
   ]
  },
  {
   "cell_type": "code",
   "execution_count": 12,
   "id": "fe448cff",
   "metadata": {},
   "outputs": [
    {
     "data": {
      "text/html": [
       "<div>\n",
       "<style scoped>\n",
       "    .dataframe tbody tr th:only-of-type {\n",
       "        vertical-align: middle;\n",
       "    }\n",
       "\n",
       "    .dataframe tbody tr th {\n",
       "        vertical-align: top;\n",
       "    }\n",
       "\n",
       "    .dataframe thead th {\n",
       "        text-align: right;\n",
       "    }\n",
       "</style>\n",
       "<table border=\"1\" class=\"dataframe\">\n",
       "  <thead>\n",
       "    <tr style=\"text-align: right;\">\n",
       "      <th></th>\n",
       "      <th>MAL_ID</th>\n",
       "      <th>Score</th>\n",
       "    </tr>\n",
       "  </thead>\n",
       "  <tbody>\n",
       "    <tr>\n",
       "      <th>0</th>\n",
       "      <td>5</td>\n",
       "      <td>8.215071</td>\n",
       "    </tr>\n",
       "    <tr>\n",
       "      <th>1</th>\n",
       "      <td>6</td>\n",
       "      <td>8.152337</td>\n",
       "    </tr>\n",
       "    <tr>\n",
       "      <th>2</th>\n",
       "      <td>7</td>\n",
       "      <td>7.409992</td>\n",
       "    </tr>\n",
       "    <tr>\n",
       "      <th>3</th>\n",
       "      <td>8</td>\n",
       "      <td>6.579870</td>\n",
       "    </tr>\n",
       "    <tr>\n",
       "      <th>4</th>\n",
       "      <td>15</td>\n",
       "      <td>7.403034</td>\n",
       "    </tr>\n",
       "    <tr>\n",
       "      <th>...</th>\n",
       "      <td>...</td>\n",
       "      <td>...</td>\n",
       "    </tr>\n",
       "    <tr>\n",
       "      <th>7416</th>\n",
       "      <td>47307</td>\n",
       "      <td>6.751366</td>\n",
       "    </tr>\n",
       "    <tr>\n",
       "      <th>7417</th>\n",
       "      <td>47398</td>\n",
       "      <td>7.255960</td>\n",
       "    </tr>\n",
       "    <tr>\n",
       "      <th>7418</th>\n",
       "      <td>47402</td>\n",
       "      <td>7.357960</td>\n",
       "    </tr>\n",
       "    <tr>\n",
       "      <th>7419</th>\n",
       "      <td>47616</td>\n",
       "      <td>6.845900</td>\n",
       "    </tr>\n",
       "    <tr>\n",
       "      <th>7420</th>\n",
       "      <td>48456</td>\n",
       "      <td>7.575269</td>\n",
       "    </tr>\n",
       "  </tbody>\n",
       "</table>\n",
       "<p>7421 rows × 2 columns</p>\n",
       "</div>"
      ],
      "text/plain": [
       "      MAL_ID     Score\n",
       "0          5  8.215071\n",
       "1          6  8.152337\n",
       "2          7  7.409992\n",
       "3          8  6.579870\n",
       "4         15  7.403034\n",
       "...      ...       ...\n",
       "7416   47307  6.751366\n",
       "7417   47398  7.255960\n",
       "7418   47402  7.357960\n",
       "7419   47616  6.845900\n",
       "7420   48456  7.575269\n",
       "\n",
       "[7421 rows x 2 columns]"
      ]
     },
     "execution_count": 12,
     "metadata": {},
     "output_type": "execute_result"
    }
   ],
   "source": [
    "sub"
   ]
  },
  {
   "cell_type": "code",
   "execution_count": null,
   "id": "362c07b9",
   "metadata": {},
   "outputs": [],
   "source": []
  }
 ],
 "metadata": {
  "kernelspec": {
   "display_name": "Python 3 (ipykernel)",
   "language": "python",
   "name": "python3"
  },
  "language_info": {
   "codemirror_mode": {
    "name": "ipython",
    "version": 3
   },
   "file_extension": ".py",
   "mimetype": "text/x-python",
   "name": "python",
   "nbconvert_exporter": "python",
   "pygments_lexer": "ipython3",
   "version": "3.7.10"
  }
 },
 "nbformat": 4,
 "nbformat_minor": 5
}
